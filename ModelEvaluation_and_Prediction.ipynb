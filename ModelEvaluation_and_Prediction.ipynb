{
 "cells": [
  {
   "cell_type": "markdown",
   "metadata": {},
   "source": [
    "### This Notebook is part of project responcible for predicting terrorist group responcible for the event by using  features in Global Terrorism Dataset(GTD). This Notebook is devided into three sections:\n",
    "### 1) Feature Selection 2) Model Selection 3) Models Optimization and Prediction"
   ]
  },
  {
   "cell_type": "code",
   "execution_count": 11,
   "metadata": {
    "collapsed": true
   },
   "outputs": [],
   "source": [
    "import pandas as pd\n",
    "import numpy as np\n",
    "from collections import Counter\n",
    "#from sklearn import preprocessing\n",
    "from sklearn.preprocessing import scale, StandardScaler\n",
    "import time\n",
    "\n",
    "from sklearn.decomposition import PCA, TruncatedSVD\n",
    "import matplotlib.pyplot as plt\n",
    "import seaborn as sns\n",
    "%matplotlib inline\n",
    "\n",
    "from sklearn.tree import DecisionTreeClassifier\n",
    "from sklearn.linear_model import LogisticRegression, Perceptron, SGDClassifier\n",
    "from sklearn.ensemble import GradientBoostingClassifier, RandomForestClassifier, BaggingClassifier, AdaBoostClassifier\n",
    "from sklearn.neighbors import KNeighborsClassifier\n",
    "from sklearn.discriminant_analysis import LinearDiscriminantAnalysis\n",
    "from sklearn.naive_bayes import GaussianNB\n",
    "from sklearn.svm import LinearSVC\n",
    "from sklearn.neural_network import MLPClassifier\n",
    "\n",
    "\n",
    "from sklearn.model_selection import train_test_split, cross_val_score, GridSearchCV,RandomizedSearchCV, KFold, cross_val_predict\n",
    "from sklearn.metrics import classification_report, confusion_matrix, accuracy_score\n"
   ]
  },
  {
   "cell_type": "markdown",
   "metadata": {},
   "source": [
    "Reading data from preprocessed data saved from preprocessing file previously."
   ]
  },
  {
   "cell_type": "code",
   "execution_count": 3,
   "metadata": {
    "scrolled": true
   },
   "outputs": [],
   "source": [
    "gtd_processed = pd.read_csv(\"gtd_processed_features.csv\", encoding='utf-8', low_memory=False)\n",
    "gtd=gtd_processed"
   ]
  },
  {
   "cell_type": "markdown",
   "metadata": {},
   "source": [
    "Lets look in the data again"
   ]
  },
  {
   "cell_type": "code",
   "execution_count": 4,
   "metadata": {},
   "outputs": [
    {
     "name": "stdout",
     "output_type": "stream",
     "text": [
      "<class 'pandas.core.frame.DataFrame'>\n",
      "RangeIndex: 88657 entries, 0 to 88656\n",
      "Data columns (total 18 columns):\n",
      "gname           88657 non-null object\n",
      "iyear           88657 non-null int64\n",
      "country         88657 non-null int64\n",
      "crit1           88657 non-null int64\n",
      "crit2           88657 non-null int64\n",
      "crit3           88657 non-null int64\n",
      "attacktype1     88657 non-null int64\n",
      "targtype1       88657 non-null int64\n",
      "targsubtype1    88657 non-null int64\n",
      "weaptype1       88657 non-null int64\n",
      "weapsubtype1    88657 non-null float64\n",
      "ransom          88657 non-null float64\n",
      "nkill           88657 non-null int64\n",
      "nwound          88657 non-null int64\n",
      "guncertain1     88657 non-null float64\n",
      "ishostkid       88657 non-null float64\n",
      "casualties      88657 non-null int64\n",
      "nclass          88657 non-null int64\n",
      "dtypes: float64(4), int64(13), object(1)\n",
      "memory usage: 12.2+ MB\n",
      "None\n"
     ]
    },
    {
     "data": {
      "text/html": [
       "<div>\n",
       "<style>\n",
       "    .dataframe thead tr:only-child th {\n",
       "        text-align: right;\n",
       "    }\n",
       "\n",
       "    .dataframe thead th {\n",
       "        text-align: left;\n",
       "    }\n",
       "\n",
       "    .dataframe tbody tr th {\n",
       "        vertical-align: top;\n",
       "    }\n",
       "</style>\n",
       "<table border=\"1\" class=\"dataframe\">\n",
       "  <thead>\n",
       "    <tr style=\"text-align: right;\">\n",
       "      <th></th>\n",
       "      <th>count</th>\n",
       "      <th>mean</th>\n",
       "      <th>std</th>\n",
       "      <th>min</th>\n",
       "      <th>25%</th>\n",
       "      <th>50%</th>\n",
       "      <th>75%</th>\n",
       "      <th>max</th>\n",
       "    </tr>\n",
       "  </thead>\n",
       "  <tbody>\n",
       "    <tr>\n",
       "      <th>iyear</th>\n",
       "      <td>88657.0</td>\n",
       "      <td>1999.630430</td>\n",
       "      <td>13.752983</td>\n",
       "      <td>1970.0</td>\n",
       "      <td>1988.0</td>\n",
       "      <td>2001.0</td>\n",
       "      <td>2014.0</td>\n",
       "      <td>2016.0</td>\n",
       "    </tr>\n",
       "    <tr>\n",
       "      <th>country</th>\n",
       "      <td>88657.0</td>\n",
       "      <td>141.015002</td>\n",
       "      <td>127.035794</td>\n",
       "      <td>4.0</td>\n",
       "      <td>61.0</td>\n",
       "      <td>137.0</td>\n",
       "      <td>182.0</td>\n",
       "      <td>1004.0</td>\n",
       "    </tr>\n",
       "    <tr>\n",
       "      <th>crit1</th>\n",
       "      <td>88657.0</td>\n",
       "      <td>0.997191</td>\n",
       "      <td>0.052922</td>\n",
       "      <td>0.0</td>\n",
       "      <td>1.0</td>\n",
       "      <td>1.0</td>\n",
       "      <td>1.0</td>\n",
       "      <td>1.0</td>\n",
       "    </tr>\n",
       "    <tr>\n",
       "      <th>crit2</th>\n",
       "      <td>88657.0</td>\n",
       "      <td>0.991281</td>\n",
       "      <td>0.092968</td>\n",
       "      <td>0.0</td>\n",
       "      <td>1.0</td>\n",
       "      <td>1.0</td>\n",
       "      <td>1.0</td>\n",
       "      <td>1.0</td>\n",
       "    </tr>\n",
       "    <tr>\n",
       "      <th>crit3</th>\n",
       "      <td>88657.0</td>\n",
       "      <td>0.843205</td>\n",
       "      <td>0.363610</td>\n",
       "      <td>0.0</td>\n",
       "      <td>1.0</td>\n",
       "      <td>1.0</td>\n",
       "      <td>1.0</td>\n",
       "      <td>1.0</td>\n",
       "    </tr>\n",
       "    <tr>\n",
       "      <th>attacktype1</th>\n",
       "      <td>88657.0</td>\n",
       "      <td>3.362476</td>\n",
       "      <td>2.077021</td>\n",
       "      <td>1.0</td>\n",
       "      <td>2.0</td>\n",
       "      <td>3.0</td>\n",
       "      <td>3.0</td>\n",
       "      <td>9.0</td>\n",
       "    </tr>\n",
       "    <tr>\n",
       "      <th>targtype1</th>\n",
       "      <td>88657.0</td>\n",
       "      <td>8.122822</td>\n",
       "      <td>6.576533</td>\n",
       "      <td>1.0</td>\n",
       "      <td>3.0</td>\n",
       "      <td>4.0</td>\n",
       "      <td>14.0</td>\n",
       "      <td>22.0</td>\n",
       "    </tr>\n",
       "    <tr>\n",
       "      <th>targsubtype1</th>\n",
       "      <td>88657.0</td>\n",
       "      <td>45.736783</td>\n",
       "      <td>30.320362</td>\n",
       "      <td>1.0</td>\n",
       "      <td>23.0</td>\n",
       "      <td>34.0</td>\n",
       "      <td>73.0</td>\n",
       "      <td>111.0</td>\n",
       "    </tr>\n",
       "    <tr>\n",
       "      <th>weaptype1</th>\n",
       "      <td>88657.0</td>\n",
       "      <td>6.586767</td>\n",
       "      <td>2.401062</td>\n",
       "      <td>1.0</td>\n",
       "      <td>5.0</td>\n",
       "      <td>6.0</td>\n",
       "      <td>6.0</td>\n",
       "      <td>13.0</td>\n",
       "    </tr>\n",
       "    <tr>\n",
       "      <th>weapsubtype1</th>\n",
       "      <td>88657.0</td>\n",
       "      <td>8.796237</td>\n",
       "      <td>6.977503</td>\n",
       "      <td>0.0</td>\n",
       "      <td>2.0</td>\n",
       "      <td>5.0</td>\n",
       "      <td>16.0</td>\n",
       "      <td>30.0</td>\n",
       "    </tr>\n",
       "    <tr>\n",
       "      <th>ransom</th>\n",
       "      <td>88657.0</td>\n",
       "      <td>-0.072121</td>\n",
       "      <td>0.854242</td>\n",
       "      <td>-9.0</td>\n",
       "      <td>0.0</td>\n",
       "      <td>0.0</td>\n",
       "      <td>0.0</td>\n",
       "      <td>1.0</td>\n",
       "    </tr>\n",
       "    <tr>\n",
       "      <th>nkill</th>\n",
       "      <td>88657.0</td>\n",
       "      <td>3.082825</td>\n",
       "      <td>14.422012</td>\n",
       "      <td>0.0</td>\n",
       "      <td>0.0</td>\n",
       "      <td>1.0</td>\n",
       "      <td>2.0</td>\n",
       "      <td>1500.0</td>\n",
       "    </tr>\n",
       "    <tr>\n",
       "      <th>nwound</th>\n",
       "      <td>88657.0</td>\n",
       "      <td>3.159435</td>\n",
       "      <td>44.717871</td>\n",
       "      <td>0.0</td>\n",
       "      <td>0.0</td>\n",
       "      <td>0.0</td>\n",
       "      <td>1.0</td>\n",
       "      <td>7366.0</td>\n",
       "    </tr>\n",
       "    <tr>\n",
       "      <th>guncertain1</th>\n",
       "      <td>88657.0</td>\n",
       "      <td>0.155588</td>\n",
       "      <td>0.362467</td>\n",
       "      <td>0.0</td>\n",
       "      <td>0.0</td>\n",
       "      <td>0.0</td>\n",
       "      <td>0.0</td>\n",
       "      <td>1.0</td>\n",
       "    </tr>\n",
       "    <tr>\n",
       "      <th>ishostkid</th>\n",
       "      <td>88657.0</td>\n",
       "      <td>0.073925</td>\n",
       "      <td>0.514186</td>\n",
       "      <td>-9.0</td>\n",
       "      <td>0.0</td>\n",
       "      <td>0.0</td>\n",
       "      <td>0.0</td>\n",
       "      <td>1.0</td>\n",
       "    </tr>\n",
       "    <tr>\n",
       "      <th>casualties</th>\n",
       "      <td>88657.0</td>\n",
       "      <td>6.242259</td>\n",
       "      <td>52.933477</td>\n",
       "      <td>0.0</td>\n",
       "      <td>0.0</td>\n",
       "      <td>1.0</td>\n",
       "      <td>4.0</td>\n",
       "      <td>8749.0</td>\n",
       "    </tr>\n",
       "    <tr>\n",
       "      <th>nclass</th>\n",
       "      <td>88657.0</td>\n",
       "      <td>0.649210</td>\n",
       "      <td>0.477220</td>\n",
       "      <td>0.0</td>\n",
       "      <td>0.0</td>\n",
       "      <td>1.0</td>\n",
       "      <td>1.0</td>\n",
       "      <td>1.0</td>\n",
       "    </tr>\n",
       "  </tbody>\n",
       "</table>\n",
       "</div>"
      ],
      "text/plain": [
       "                count         mean         std     min     25%     50%  \\\n",
       "iyear         88657.0  1999.630430   13.752983  1970.0  1988.0  2001.0   \n",
       "country       88657.0   141.015002  127.035794     4.0    61.0   137.0   \n",
       "crit1         88657.0     0.997191    0.052922     0.0     1.0     1.0   \n",
       "crit2         88657.0     0.991281    0.092968     0.0     1.0     1.0   \n",
       "crit3         88657.0     0.843205    0.363610     0.0     1.0     1.0   \n",
       "attacktype1   88657.0     3.362476    2.077021     1.0     2.0     3.0   \n",
       "targtype1     88657.0     8.122822    6.576533     1.0     3.0     4.0   \n",
       "targsubtype1  88657.0    45.736783   30.320362     1.0    23.0    34.0   \n",
       "weaptype1     88657.0     6.586767    2.401062     1.0     5.0     6.0   \n",
       "weapsubtype1  88657.0     8.796237    6.977503     0.0     2.0     5.0   \n",
       "ransom        88657.0    -0.072121    0.854242    -9.0     0.0     0.0   \n",
       "nkill         88657.0     3.082825   14.422012     0.0     0.0     1.0   \n",
       "nwound        88657.0     3.159435   44.717871     0.0     0.0     0.0   \n",
       "guncertain1   88657.0     0.155588    0.362467     0.0     0.0     0.0   \n",
       "ishostkid     88657.0     0.073925    0.514186    -9.0     0.0     0.0   \n",
       "casualties    88657.0     6.242259   52.933477     0.0     0.0     1.0   \n",
       "nclass        88657.0     0.649210    0.477220     0.0     0.0     1.0   \n",
       "\n",
       "                 75%     max  \n",
       "iyear         2014.0  2016.0  \n",
       "country        182.0  1004.0  \n",
       "crit1            1.0     1.0  \n",
       "crit2            1.0     1.0  \n",
       "crit3            1.0     1.0  \n",
       "attacktype1      3.0     9.0  \n",
       "targtype1       14.0    22.0  \n",
       "targsubtype1    73.0   111.0  \n",
       "weaptype1        6.0    13.0  \n",
       "weapsubtype1    16.0    30.0  \n",
       "ransom           0.0     1.0  \n",
       "nkill            2.0  1500.0  \n",
       "nwound           1.0  7366.0  \n",
       "guncertain1      0.0     1.0  \n",
       "ishostkid        0.0     1.0  \n",
       "casualties       4.0  8749.0  \n",
       "nclass           1.0     1.0  "
      ]
     },
     "execution_count": 4,
     "metadata": {},
     "output_type": "execute_result"
    }
   ],
   "source": [
    "print(gtd.info())\n",
    "gtd.describe().transpose()\n"
   ]
  },
  {
   "cell_type": "markdown",
   "metadata": {},
   "source": [
    "### 1) Feature Selection"
   ]
  },
  {
   "cell_type": "markdown",
   "metadata": {},
   "source": [
    "Seperated target column i.e. gname and rest of the columns as features. "
   ]
  },
  {
   "cell_type": "code",
   "execution_count": 5,
   "metadata": {
    "collapsed": true
   },
   "outputs": [],
   "source": [
    "target=gtd[\"gname\"]\n",
    "features = gtd[['iyear', 'country', 'crit1', 'crit2', 'crit3', 'attacktype1', 'targtype1',\n",
    "                       'targsubtype1','weaptype1', 'weapsubtype1', 'ransom', 'nkill', 'nwound', 'guncertain1', 'ishostkid','casualties']]"
   ]
  },
  {
   "cell_type": "code",
   "execution_count": 6,
   "metadata": {},
   "outputs": [
    {
     "data": {
      "text/html": [
       "<div>\n",
       "<style>\n",
       "    .dataframe thead tr:only-child th {\n",
       "        text-align: right;\n",
       "    }\n",
       "\n",
       "    .dataframe thead th {\n",
       "        text-align: left;\n",
       "    }\n",
       "\n",
       "    .dataframe tbody tr th {\n",
       "        vertical-align: top;\n",
       "    }\n",
       "</style>\n",
       "<table border=\"1\" class=\"dataframe\">\n",
       "  <thead>\n",
       "    <tr style=\"text-align: right;\">\n",
       "      <th></th>\n",
       "      <th>iyear</th>\n",
       "      <th>country</th>\n",
       "      <th>crit1</th>\n",
       "      <th>crit2</th>\n",
       "      <th>crit3</th>\n",
       "      <th>attacktype1</th>\n",
       "      <th>targtype1</th>\n",
       "      <th>targsubtype1</th>\n",
       "      <th>weaptype1</th>\n",
       "      <th>weapsubtype1</th>\n",
       "      <th>ransom</th>\n",
       "      <th>nkill</th>\n",
       "      <th>nwound</th>\n",
       "      <th>guncertain1</th>\n",
       "      <th>ishostkid</th>\n",
       "      <th>casualties</th>\n",
       "    </tr>\n",
       "  </thead>\n",
       "  <tbody>\n",
       "    <tr>\n",
       "      <th>0</th>\n",
       "      <td>1970</td>\n",
       "      <td>130</td>\n",
       "      <td>1</td>\n",
       "      <td>1</td>\n",
       "      <td>1</td>\n",
       "      <td>6</td>\n",
       "      <td>7</td>\n",
       "      <td>45</td>\n",
       "      <td>13</td>\n",
       "      <td>0.0</td>\n",
       "      <td>1.0</td>\n",
       "      <td>0</td>\n",
       "      <td>0</td>\n",
       "      <td>0.0</td>\n",
       "      <td>1.0</td>\n",
       "      <td>0</td>\n",
       "    </tr>\n",
       "    <tr>\n",
       "      <th>1</th>\n",
       "      <td>1970</td>\n",
       "      <td>217</td>\n",
       "      <td>1</td>\n",
       "      <td>1</td>\n",
       "      <td>1</td>\n",
       "      <td>2</td>\n",
       "      <td>3</td>\n",
       "      <td>22</td>\n",
       "      <td>5</td>\n",
       "      <td>5.0</td>\n",
       "      <td>0.0</td>\n",
       "      <td>0</td>\n",
       "      <td>0</td>\n",
       "      <td>0.0</td>\n",
       "      <td>0.0</td>\n",
       "      <td>0</td>\n",
       "    </tr>\n",
       "    <tr>\n",
       "      <th>2</th>\n",
       "      <td>1970</td>\n",
       "      <td>218</td>\n",
       "      <td>1</td>\n",
       "      <td>1</td>\n",
       "      <td>1</td>\n",
       "      <td>1</td>\n",
       "      <td>3</td>\n",
       "      <td>25</td>\n",
       "      <td>5</td>\n",
       "      <td>2.0</td>\n",
       "      <td>0.0</td>\n",
       "      <td>0</td>\n",
       "      <td>0</td>\n",
       "      <td>0.0</td>\n",
       "      <td>0.0</td>\n",
       "      <td>0</td>\n",
       "    </tr>\n",
       "    <tr>\n",
       "      <th>3</th>\n",
       "      <td>1970</td>\n",
       "      <td>217</td>\n",
       "      <td>1</td>\n",
       "      <td>1</td>\n",
       "      <td>1</td>\n",
       "      <td>7</td>\n",
       "      <td>4</td>\n",
       "      <td>28</td>\n",
       "      <td>8</td>\n",
       "      <td>19.0</td>\n",
       "      <td>0.0</td>\n",
       "      <td>0</td>\n",
       "      <td>0</td>\n",
       "      <td>0.0</td>\n",
       "      <td>0.0</td>\n",
       "      <td>0</td>\n",
       "    </tr>\n",
       "    <tr>\n",
       "      <th>4</th>\n",
       "      <td>1970</td>\n",
       "      <td>217</td>\n",
       "      <td>1</td>\n",
       "      <td>1</td>\n",
       "      <td>1</td>\n",
       "      <td>7</td>\n",
       "      <td>2</td>\n",
       "      <td>21</td>\n",
       "      <td>8</td>\n",
       "      <td>20.0</td>\n",
       "      <td>0.0</td>\n",
       "      <td>0</td>\n",
       "      <td>0</td>\n",
       "      <td>0.0</td>\n",
       "      <td>0.0</td>\n",
       "      <td>0</td>\n",
       "    </tr>\n",
       "  </tbody>\n",
       "</table>\n",
       "</div>"
      ],
      "text/plain": [
       "   iyear  country  crit1  crit2  crit3  attacktype1  targtype1  targsubtype1  \\\n",
       "0   1970      130      1      1      1            6          7            45   \n",
       "1   1970      217      1      1      1            2          3            22   \n",
       "2   1970      218      1      1      1            1          3            25   \n",
       "3   1970      217      1      1      1            7          4            28   \n",
       "4   1970      217      1      1      1            7          2            21   \n",
       "\n",
       "   weaptype1  weapsubtype1  ransom  nkill  nwound  guncertain1  ishostkid  \\\n",
       "0         13           0.0     1.0      0       0          0.0        1.0   \n",
       "1          5           5.0     0.0      0       0          0.0        0.0   \n",
       "2          5           2.0     0.0      0       0          0.0        0.0   \n",
       "3          8          19.0     0.0      0       0          0.0        0.0   \n",
       "4          8          20.0     0.0      0       0          0.0        0.0   \n",
       "\n",
       "   casualties  \n",
       "0           0  \n",
       "1           0  \n",
       "2           0  \n",
       "3           0  \n",
       "4           0  "
      ]
     },
     "execution_count": 6,
     "metadata": {},
     "output_type": "execute_result"
    }
   ],
   "source": [
    "features.head(5)"
   ]
  },
  {
   "cell_type": "markdown",
   "metadata": {},
   "source": [
    "Scale and transform features data before doing PCA"
   ]
  },
  {
   "cell_type": "code",
   "execution_count": 36,
   "metadata": {},
   "outputs": [
    {
     "data": {
      "text/plain": [
       "(88657, 16)"
      ]
     },
     "execution_count": 36,
     "metadata": {},
     "output_type": "execute_result"
    }
   ],
   "source": [
    "Xscale = scale(features)\n",
    "pca=PCA(n_components=16)\n",
    "X=pca.fit_transform(Xscale)\n",
    "\n",
    "Xscale.shape"
   ]
  },
  {
   "cell_type": "markdown",
   "metadata": {},
   "source": [
    "Looking at the cummulative variance explained by features to choose minimum features required for explaining maximum variance."
   ]
  },
  {
   "cell_type": "code",
   "execution_count": 30,
   "metadata": {},
   "outputs": [
    {
     "name": "stdout",
     "output_type": "stream",
     "text": [
      "[  1.51482731e-01   1.33669702e-01   1.17487887e-01   8.30438628e-02\n",
      "   6.83145605e-02   6.35790906e-02   6.14434769e-02   6.03922448e-02\n",
      "   5.65889979e-02   5.25655758e-02   5.16534397e-02   4.15066570e-02\n",
      "   3.55953516e-02   1.87159905e-02   3.96043118e-03   3.71868879e-31]\n",
      "[ 0.15148273  0.28515243  0.40264032  0.48568418  0.55399874  0.61757783\n",
      "  0.67902131  0.73941356  0.79600255  0.84856813  0.90022157  0.94172823\n",
      "  0.97732358  0.99603957  1.          1.        ]\n"
     ]
    },
    {
     "data": {
      "text/plain": [
       "[<matplotlib.lines.Line2D at 0xe474940>]"
      ]
     },
     "execution_count": 30,
     "metadata": {},
     "output_type": "execute_result"
    },
    {
     "data": {
      "image/png": "[encoded data removed]",
      "text/plain": [
       "<matplotlib.figure.Figure at 0xe0735f8>"
      ]
     },
     "metadata": {},
     "output_type": "display_data"
    }
   ],
   "source": [
    "print(pca.explained_variance_ratio_)\n",
    "print(pca.explained_variance_ratio_.cumsum())\n",
    "cumVar=pca.explained_variance_ratio_.cumsum()\n",
    "plt.plot(cumVar)"
   ]
  },
  {
   "cell_type": "markdown",
   "metadata": {},
   "source": [
    "We can see that 90% variation can be explained by 11 features."
   ]
  },
  {
   "cell_type": "code",
   "execution_count": 31,
   "metadata": {},
   "outputs": [
    {
     "data": {
      "text/plain": [
       "(88657, 11)"
      ]
     },
     "execution_count": 31,
     "metadata": {},
     "output_type": "execute_result"
    }
   ],
   "source": [
    "pca=PCA(n_components=11)\n",
    "reducedFeatures = pca.fit_transform(features)\n",
    "reducedFeatures.shape"
   ]
  },
  {
   "cell_type": "markdown",
   "metadata": {},
   "source": [
    "### 2) Model selection"
   ]
  },
  {
   "cell_type": "markdown",
   "metadata": {},
   "source": [
    "Dividing reduced features data into training and validation sets"
   ]
  },
  {
   "cell_type": "code",
   "execution_count": 37,
   "metadata": {
    "collapsed": true
   },
   "outputs": [],
   "source": [
    "X_train, X_val, Y_train, Y_val = train_test_split(reducedFeatures, target, test_size=.2, random_state=0)\n",
    "X_train.shape"
   ]
  },
  {
   "cell_type": "markdown",
   "metadata": {},
   "source": [
    "Creating model pipeline by adding various machine learning models in an array with default parameters. Please uncomment the algorithms to try."
   ]
  },
  {
   "cell_type": "code",
   "execution_count": 38,
   "metadata": {
    "collapsed": true
   },
   "outputs": [],
   "source": [
    "models=[]\n",
    "\n",
    "# K-Nearest Neighbor:\n",
    "models.append((\"KNN\", KNeighborsClassifier()))\n",
    "\n",
    "# Linear Models\n",
    "#models.append(('Logistic_Regression', LogisticRegression(n_jobs = -1, penalty = 'l1')))\n",
    "\n",
    "#'Perceptron' : Perceptron(n_iter = 20, n_jobs = -1),\n",
    "models.append(('SGD Classifier', SGDClassifier(penalty = 'l1', n_jobs = -1,)))\n",
    "\n",
    "# Naive Bayes:\n",
    "#models.append(('Gaussian Naive-Bayes', GaussianNB()))\n",
    "\n",
    "# Decision Tree & Ensemble\n",
    "#models.append(('Decision Tree Classifier', DecisionTreeClassifier()))\n",
    "models.append(('Random Forest Classifier',  RandomForestClassifier(n_jobs = -1,)))\n",
    "#models.append(('Gradient Boosting Classifier', GradientBoostingClassifier()))\n",
    "#models.append(('AdA Boost Classifier', AdaBoostClassifier()))\n",
    "#models.append(('Bagging Classifier', BaggingClassifier(n_jobs = -1)))\n",
    "\n",
    "# Support Vector Machine\n",
    "#models.append(('Linear SVC', LinearSVC(penalty = 'l1', dual = False)))\n",
    "\n",
    "# Multi-Layer Perceptron (Neural Network):\n",
    "#models.append(('MLP Classifier', MLPClassifier(activation = 'logistic', max_iter=4)))"
   ]
  },
  {
   "cell_type": "markdown",
   "metadata": {},
   "source": [
    "Variables to store validation results and setting parameters"
   ]
  },
  {
   "cell_type": "code",
   "execution_count": 39,
   "metadata": {
    "collapsed": true,
    "scrolled": true
   },
   "outputs": [],
   "source": [
    "results= pd.DataFrame(columns=['model', 'score', 'time(sec)'])\n",
    "scoring='accuracy'\n",
    "seed=0\n",
    "kFold_n_splits=2 #increase this number but with accuracy vs time to execute, trade off."
   ]
  },
  {
   "cell_type": "markdown",
   "metadata": {},
   "source": [
    "Executing cross validation steps for each model enabled above and storing results."
   ]
  },
  {
   "cell_type": "code",
   "execution_count": 40,
   "metadata": {
    "scrolled": true
   },
   "outputs": [
    {
     "name": "stdout",
     "output_type": "stream",
     "text": [
      "KNN: 0.601% - 4.335 seconds\n",
      "SGD Classifier: 0.148% - 12.55 seconds\n",
      "Random Forest Classifier: 0.649% - 11.43 seconds\n"
     ]
    }
   ],
   "source": [
    "for model,n in zip(models, np.arange(len(models))):\n",
    "    start_time =time.time()\n",
    "    #get the Cv score\n",
    "    kfold = KFold(n_splits=kFold_n_splits, random_state=seed)\n",
    "    cv_score = cross_val_score(model[1], X_train, Y_train, cv=kfold, scoring=scoring)\n",
    "\n",
    "    #storing results\n",
    "    time_taken = round((time.time() - start_time),3)\n",
    "    name=model[0]\n",
    "    results.loc[n]=[name, cv_score.mean(), time_taken]\n",
    "    msg = \"%s: %.3f%% - %s seconds\" % (name, cv_score.mean(), time_taken)\n",
    "    print(msg)"
   ]
  },
  {
   "cell_type": "markdown",
   "metadata": {},
   "source": [
    "### Displaying previous past results for each algorithm as some algorithms took much longer\n",
    "KNN: 0.606937% - 2.707 seconds\n",
    "Logistic_Regression: 0.241015% - 165.59 seconds\n",
    "SGD Classifier: 0.038181% - 8.477 seconds\n",
    "Gaussian Naive-Bayes: 0.251731% - 7.302 seconds\n",
    "Decision Tree Classifier: 0.646528% - 5.19 seconds\n",
    "Random Forest Classifier: 0.628001% - 8.144 seconds\n",
    "AdA Boost Classifier: 0.135326% - 343.342 seconds\n",
    "Bagging Classifier: 0.677335% - 44.081 seconds\n",
    "Linear SVC: 0.235855% - 271.354 seconds\n",
    "MLP Classifier: 0.300529% - 26.864 seconds"
   ]
  },
  {
   "cell_type": "markdown",
   "metadata": {},
   "source": [
    "Sort model on the base of cross validation score"
   ]
  },
  {
   "cell_type": "code",
   "execution_count": 21,
   "metadata": {},
   "outputs": [
    {
     "data": {
      "text/html": [
       "<div>\n",
       "<style>\n",
       "    .dataframe thead tr:only-child th {\n",
       "        text-align: right;\n",
       "    }\n",
       "\n",
       "    .dataframe thead th {\n",
       "        text-align: left;\n",
       "    }\n",
       "\n",
       "    .dataframe tbody tr th {\n",
       "        vertical-align: top;\n",
       "    }\n",
       "</style>\n",
       "<table border=\"1\" class=\"dataframe\">\n",
       "  <thead>\n",
       "    <tr style=\"text-align: right;\">\n",
       "      <th></th>\n",
       "      <th>model</th>\n",
       "      <th>score</th>\n",
       "      <th>time(sec)</th>\n",
       "    </tr>\n",
       "  </thead>\n",
       "  <tbody>\n",
       "    <tr>\n",
       "      <th>2</th>\n",
       "      <td>Random Forest Classifier</td>\n",
       "      <td>0.647769</td>\n",
       "      <td>20.448</td>\n",
       "    </tr>\n",
       "    <tr>\n",
       "      <th>0</th>\n",
       "      <td>KNN</td>\n",
       "      <td>0.600367</td>\n",
       "      <td>4.664</td>\n",
       "    </tr>\n",
       "    <tr>\n",
       "      <th>1</th>\n",
       "      <td>SGD Classifier</td>\n",
       "      <td>0.142926</td>\n",
       "      <td>32.224</td>\n",
       "    </tr>\n",
       "  </tbody>\n",
       "</table>\n",
       "</div>"
      ],
      "text/plain": [
       "                      model     score  time(sec)\n",
       "2  Random Forest Classifier  0.647769     20.448\n",
       "0                       KNN  0.600367      4.664\n",
       "1            SGD Classifier  0.142926     32.224"
      ]
     },
     "execution_count": 21,
     "metadata": {},
     "output_type": "execute_result"
    }
   ],
   "source": [
    "results=results.sort_values(by = 'score', ascending = False)\n",
    "results"
   ]
  },
  {
   "cell_type": "markdown",
   "metadata": {},
   "source": [
    "Compare models visually"
   ]
  },
  {
   "cell_type": "code",
   "execution_count": 22,
   "metadata": {
    "scrolled": true
   },
   "outputs": [
    {
     "data": {
      "image/png": "[encoded data removed]",
      "text/plain": [
       "<matplotlib.figure.Figure at 0x1295e710>"
      ]
     },
     "metadata": {},
     "output_type": "display_data"
    }
   ],
   "source": [
    "fig = plt.figure()\n",
    "fig.suptitle('Algorithm Comparison')\n",
    "ax= results[\"score\"].plot(kind=\"bar\", fontsize=12, rot=20)\n",
    "ax.set_xticklabels( results[\"model\"])\n",
    "plt.show()"
   ]
  },
  {
   "cell_type": "markdown",
   "metadata": {},
   "source": [
    "### 3) Model Optimization\n"
   ]
  },
  {
   "cell_type": "markdown",
   "metadata": {},
   "source": [
    "Lets check prediction from the model resulted the best score above."
   ]
  },
  {
   "cell_type": "code",
   "execution_count": 26,
   "metadata": {
    "collapsed": true
   },
   "outputs": [
    {
     "name": "stdout",
     "output_type": "stream",
     "text": [
      "RandomForestClassifier(bootstrap=True, class_weight=None, criterion='gini',\n",
      "            max_depth=None, max_features='auto', max_leaf_nodes=None,\n",
      "            min_impurity_decrease=0.0, min_impurity_split=None,\n",
      "            min_samples_leaf=1, min_samples_split=2,\n",
      "            min_weight_fraction_leaf=0.0, n_estimators=10, n_jobs=-1,\n",
      "            oob_score=False, random_state=56, verbose=0, warm_start=False) \n",
      "\n",
      "Pradictions: \n",
      " ['inkatha freedom party (ifp)'\n",
      " 'national liberation army of colombia (eln)'\n",
      " 'islamic state of iraq and the levant (isil)' ...\n",
      " 'abu sayyaf group (asg)' 'communist party of india - maoist (cpi-maoist)'\n",
      " 'narco-terrorists'] \n",
      "\n",
      "Accuracy Score: \n",
      " 0.68 \n",
      "\n",
      "[[0 0 0 ... 0 0 0]\n",
      " [0 1 0 ... 0 0 0]\n",
      " [0 0 2 ... 0 0 0]\n",
      " ...\n",
      " [0 0 0 ... 1 0 0]\n",
      " [0 0 0 ... 0 0 0]\n",
      " [0 0 0 ... 0 0 0]]\n"
     ]
    }
   ],
   "source": [
    "bestModel=[a[1] for a in models if a[0] == results.iloc[0][\"model\"]][0]\n",
    "bestModel.fit(X_train, Y_train)\n",
    "predictions = bestModel.predict(X_val)\n",
    "\n",
    "print(bestModel, \"\\n\")\n",
    "print(\"Pradictions: \\n\", predictions, \"\\n\")\n",
    "print(\"Accuracy Score: \\n {:.2f}\".format(accuracy_score(Y_val, predictions)), \"\\n\")\n",
    "print(confusion_matrix(Y_val, predictions))\n",
    "#print(classification_report(Y_validation, predictions))"
   ]
  },
  {
   "cell_type": "markdown",
   "metadata": {},
   "source": [
    "Optimizing RandomForestClassifier using RandomizedSearchCV and find the best parameters. "
   ]
  },
  {
   "cell_type": "code",
   "execution_count": 24,
   "metadata": {
    "collapsed": true
   },
   "outputs": [
    {
     "name": "stderr",
     "output_type": "stream",
     "text": [
      "C:\\Users\\user\\Anaconda3\\lib\\site-packages\\sklearn\\model_selection\\_split.py:605: Warning: The least populated class in y has only 1 members, which is too few. The minimum number of members in any class cannot be less than n_splits=2.\n",
      "  % (min_groups, self.n_splits)), Warning)\n",
      "ERROR:root:Internal Python error in the inspect module.\n",
      "Below is the traceback from this internal error.\n",
      "\n"
     ]
    },
    {
     "name": "stdout",
     "output_type": "stream",
     "text": [
      "Traceback (most recent call last):\n",
      "  File \"C:\\Users\\user\\Anaconda3\\lib\\site-packages\\IPython\\core\\interactiveshell.py\", line 2862, in run_code\n",
      "    exec(code_obj, self.user_global_ns, self.user_ns)\n",
      "  File \"<ipython-input-24-a2d4f8a30c45>\", line 17, in <module>\n",
      "    CV_rfc.fit(X_train, Y_train)\n",
      "  File \"C:\\Users\\user\\Anaconda3\\lib\\site-packages\\sklearn\\model_selection\\_search.py\", line 639, in fit\n",
      "    cv.split(X, y, groups)))\n",
      "  File \"C:\\Users\\user\\Anaconda3\\lib\\site-packages\\sklearn\\externals\\joblib\\parallel.py\", line 779, in __call__\n",
      "    while self.dispatch_one_batch(iterator):\n",
      "  File \"C:\\Users\\user\\Anaconda3\\lib\\site-packages\\sklearn\\externals\\joblib\\parallel.py\", line 625, in dispatch_one_batch\n",
      "    self._dispatch(tasks)\n",
      "  File \"C:\\Users\\user\\Anaconda3\\lib\\site-packages\\sklearn\\externals\\joblib\\parallel.py\", line 588, in _dispatch\n",
      "    job = self._backend.apply_async(batch, callback=cb)\n",
      "  File \"C:\\Users\\user\\Anaconda3\\lib\\site-packages\\sklearn\\externals\\joblib\\_parallel_backends.py\", line 111, in apply_async\n",
      "    result = ImmediateResult(func)\n",
      "  File \"C:\\Users\\user\\Anaconda3\\lib\\site-packages\\sklearn\\externals\\joblib\\_parallel_backends.py\", line 332, in __init__\n",
      "    self.results = batch()\n",
      "  File \"C:\\Users\\user\\Anaconda3\\lib\\site-packages\\sklearn\\externals\\joblib\\parallel.py\", line 131, in __call__\n",
      "    return [func(*args, **kwargs) for func, args, kwargs in self.items]\n",
      "  File \"C:\\Users\\user\\Anaconda3\\lib\\site-packages\\sklearn\\externals\\joblib\\parallel.py\", line 131, in <listcomp>\n",
      "    return [func(*args, **kwargs) for func, args, kwargs in self.items]\n",
      "  File \"C:\\Users\\user\\Anaconda3\\lib\\site-packages\\sklearn\\model_selection\\_validation.py\", line 458, in _fit_and_score\n",
      "    estimator.fit(X_train, y_train, **fit_params)\n",
      "  File \"C:\\Users\\user\\Anaconda3\\lib\\site-packages\\sklearn\\ensemble\\forest.py\", line 328, in fit\n",
      "    for i, t in enumerate(trees))\n",
      "  File \"C:\\Users\\user\\Anaconda3\\lib\\site-packages\\sklearn\\externals\\joblib\\parallel.py\", line 789, in __call__\n",
      "    self.retrieve()\n",
      "  File \"C:\\Users\\user\\Anaconda3\\lib\\site-packages\\sklearn\\externals\\joblib\\parallel.py\", line 699, in retrieve\n",
      "    self._output.extend(job.get(timeout=self.timeout))\n",
      "  File \"C:\\Users\\user\\Anaconda3\\lib\\multiprocessing\\pool.py\", line 638, in get\n",
      "    self.wait(timeout)\n",
      "  File \"C:\\Users\\user\\Anaconda3\\lib\\multiprocessing\\pool.py\", line 635, in wait\n",
      "    self._event.wait(timeout)\n",
      "  File \"C:\\Users\\user\\Anaconda3\\lib\\threading.py\", line 551, in wait\n",
      "    signaled = self._cond.wait(timeout)\n",
      "  File \"C:\\Users\\user\\Anaconda3\\lib\\threading.py\", line 295, in wait\n",
      "    waiter.acquire()\n",
      "KeyboardInterrupt\n",
      "\n",
      "During handling of the above exception, another exception occurred:\n",
      "\n",
      "Traceback (most recent call last):\n",
      "  File \"C:\\Users\\user\\Anaconda3\\lib\\site-packages\\IPython\\core\\interactiveshell.py\", line 1806, in showtraceback\n",
      "    stb = value._render_traceback_()\n",
      "AttributeError: 'KeyboardInterrupt' object has no attribute '_render_traceback_'\n",
      "\n",
      "During handling of the above exception, another exception occurred:\n",
      "\n",
      "Traceback (most recent call last):\n",
      "  File \"C:\\Users\\user\\Anaconda3\\lib\\site-packages\\IPython\\core\\ultratb.py\", line 1090, in get_records\n",
      "    return _fixed_getinnerframes(etb, number_of_lines_of_context, tb_offset)\n",
      "  File \"C:\\Users\\user\\Anaconda3\\lib\\site-packages\\IPython\\core\\ultratb.py\", line 311, in wrapped\n",
      "    return f(*args, **kwargs)\n",
      "  File \"C:\\Users\\user\\Anaconda3\\lib\\site-packages\\IPython\\core\\ultratb.py\", line 345, in _fixed_getinnerframes\n",
      "    records = fix_frame_records_filenames(inspect.getinnerframes(etb, context))\n",
      "  File \"C:\\Users\\user\\Anaconda3\\lib\\inspect.py\", line 1480, in getinnerframes\n",
      "    frameinfo = (tb.tb_frame,) + getframeinfo(tb, context)\n",
      "  File \"C:\\Users\\user\\Anaconda3\\lib\\inspect.py\", line 1438, in getframeinfo\n",
      "    filename = getsourcefile(frame) or getfile(frame)\n",
      "  File \"C:\\Users\\user\\Anaconda3\\lib\\inspect.py\", line 693, in getsourcefile\n",
      "    if getattr(getmodule(object, filename), '__loader__', None) is not None:\n",
      "  File \"C:\\Users\\user\\Anaconda3\\lib\\inspect.py\", line 736, in getmodule\n",
      "    f = getabsfile(module)\n",
      "  File \"C:\\Users\\user\\Anaconda3\\lib\\inspect.py\", line 705, in getabsfile\n",
      "    _filename = getsourcefile(object) or getfile(object)\n",
      "  File \"C:\\Users\\user\\Anaconda3\\lib\\inspect.py\", line 690, in getsourcefile\n",
      "    if os.path.exists(filename):\n",
      "  File \"C:\\Users\\user\\Anaconda3\\lib\\genericpath.py\", line 19, in exists\n",
      "    os.stat(path)\n",
      "KeyboardInterrupt\n"
     ]
    },
    {
     "ename": "KeyboardInterrupt",
     "evalue": "",
     "output_type": "error",
     "traceback": [
      "\u001b[1;31m---------------------------------------------------------------------------\u001b[0m"
     ]
    }
   ],
   "source": [
    "rfc = RandomForestClassifier(n_jobs=-1, max_features='sqrt', verbose=0) \n",
    "start_time = time.time()\n",
    "# Use a grid over parameters of interest\n",
    "n_estim = filter(lambda x: x % 9 == 0, list(range(9,50)))\n",
    "param_grid = { \n",
    "           \"n_estimators\" : list(n_estim),\n",
    "           \"max_depth\" : [1, 5, 10, 15, 20, 25, 30],\n",
    "           \"min_samples_leaf\" : [1, 2, 4, 6, 8, 10]}\n",
    "\n",
    "#param_grid = { \n",
    "#           \"n_estimators\" : [2,3],\n",
    "#           \"max_depth\" : [1, 2],\n",
    "#           \"min_samples_leaf\" : [1, 10]}\n",
    "\n",
    "    \n",
    "CV_rfc = RandomizedSearchCV(rfc, param_grid, cv= 2)\n",
    "CV_rfc.fit(X_train, Y_train)\n",
    "print(\"RamdomSearch took {:.2f} seconds\".format(time.time() - start_time))\n",
    "\n",
    "print( CV_rfc.best_params_)\n",
    "print( CV_rfc.best_score_)"
   ]
  },
  {
   "cell_type": "markdown",
   "metadata": {},
   "source": [
    "Creating same classifier using the best parameters from above optimization BUT using differnt Kfolds"
   ]
  },
  {
   "cell_type": "code",
   "execution_count": null,
   "metadata": {
    "collapsed": true
   },
   "outputs": [],
   "source": [
    "seed = 0\n",
    "\n",
    "rfc = RandomForestClassifier(**CV_rfc.best_params_)\n",
    "kfold = KFold(n_splits=10, random_state=seed)\n",
    "\n",
    "# fit the model with training set\n",
    "scores = cross_val_score(rfc, X_train, Y_train, cv=kfold, scoring='accuracy')\n",
    "print(\"Train accuracy %0.2f (+/- %0.2f)\" % (scores.mean()*100, scores.std()*100))\n",
    "\n",
    "# predict on testing set\n",
    "preds = cross_val_predict(rfc, X_val, Y_val, cv=kfold)\n",
    "print(\"Test accuracy %0.2f\" % (100*accuracy_score(Y_val, preds)))"
   ]
  },
  {
   "cell_type": "markdown",
   "metadata": {},
   "source": [
    "Optimizing now for KNN algorithm. Similarly other alogorithms can be optimized too."
   ]
  },
  {
   "cell_type": "code",
   "execution_count": 41,
   "metadata": {
    "scrolled": true
   },
   "outputs": [
    {
     "name": "stderr",
     "output_type": "stream",
     "text": [
      "C:\\ProgramData\\Anaconda3\\lib\\site-packages\\sklearn\\model_selection\\_split.py:581: Warning: The least populated class in y has only 1 members, which is too few. The minimum number of groups for any class cannot be less than n_splits=3.\n",
      "  % (min_groups, self.n_splits)), Warning)\n"
     ]
    },
    {
     "name": "stdout",
     "output_type": "stream",
     "text": [
      "RamdomSearch took 136.60 seconds\n",
      "Train accuracy 0.63 \n"
     ]
    },
    {
     "ename": "AttributeError",
     "evalue": "'RandomizedSearchCV' object has no attribute 'preds'",
     "output_type": "error",
     "traceback": [
      "\u001b[1;31m---------------------------------------------------------------------------\u001b[0m",
      "\u001b[1;31mAttributeError\u001b[0m                            Traceback (most recent call last)",
      "\u001b[1;32m<ipython-input-41-2156cb25ccb2>\u001b[0m in \u001b[0;36m<module>\u001b[1;34m()\u001b[0m\n\u001b[0;32m     14\u001b[0m \u001b[1;33m\u001b[0m\u001b[0m\n\u001b[0;32m     15\u001b[0m \u001b[1;31m# predict on testing set\u001b[0m\u001b[1;33m\u001b[0m\u001b[1;33m\u001b[0m\u001b[0m\n\u001b[1;32m---> 16\u001b[1;33m \u001b[0mpreds\u001b[0m \u001b[1;33m=\u001b[0m \u001b[0mKNNgrid\u001b[0m\u001b[1;33m.\u001b[0m\u001b[0mpreds\u001b[0m\u001b[1;33m(\u001b[0m\u001b[0mX_val\u001b[0m\u001b[1;33m)\u001b[0m\u001b[1;33m\u001b[0m\u001b[0m\n\u001b[0m\u001b[0;32m     17\u001b[0m \u001b[0mprint\u001b[0m\u001b[1;33m(\u001b[0m\u001b[1;34m\"Test accuracy %0.2f\"\u001b[0m \u001b[1;33m%\u001b[0m \u001b[1;33m(\u001b[0m\u001b[1;36m100\u001b[0m\u001b[1;33m*\u001b[0m\u001b[0maccuracy_score\u001b[0m\u001b[1;33m(\u001b[0m\u001b[0mY_val\u001b[0m\u001b[1;33m,\u001b[0m \u001b[0mpreds\u001b[0m\u001b[1;33m)\u001b[0m\u001b[1;33m)\u001b[0m\u001b[1;33m)\u001b[0m\u001b[1;33m\u001b[0m\u001b[0m\n",
      "\u001b[1;31mAttributeError\u001b[0m: 'RandomizedSearchCV' object has no attribute 'preds'"
     ]
    }
   ],
   "source": [
    "knn = KNeighborsClassifier(n_jobs=-1)\n",
    "# Range of `n_estimators` values to explore.\n",
    "\n",
    "knnparams= {\"n_neighbors\": np.arange(1,31,2),\n",
    "           \"metric\" : [\"euclidean\", \"cityblock\"]}\n",
    "\n",
    "KNNgrid= RandomizedSearchCV(knn, knnparams, scoring=scoring)\n",
    "start_time=time.time()\n",
    "KNNgrid.fit(X_train, Y_train)\n",
    "\n",
    "print(\"RamdomSearch took {:.2f} seconds\".format(time.time() - start_time))\n",
    "# fit the model with training set\n",
    "print(\"Train accuracy %0.2f \" % (KNNgrid.best_score_))\n",
    "\n",
    "# predict on testing set\n",
    "preds = KNNgrid.preds(X_val)\n",
    "print(\"Test accuracy %0.2f\" % (100*accuracy_score(Y_val, preds)))"
   ]
  },
  {
   "cell_type": "code",
   "execution_count": null,
   "metadata": {
    "collapsed": true
   },
   "outputs": [],
   "source": []
  }
 ],
 "metadata": {
  "kernelspec": {
   "display_name": "Python 3",
   "language": "python",
   "name": "python3"
  },
  "language_info": {
   "codemirror_mode": {
    "name": "ipython",
    "version": 3
   },
   "file_extension": ".py",
   "mimetype": "text/x-python",
   "name": "python",
   "nbconvert_exporter": "python",
   "pygments_lexer": "ipython3",
   "version": "3.6.1"
  }
 },
 "nbformat": 4,
 "nbformat_minor": 2
}
