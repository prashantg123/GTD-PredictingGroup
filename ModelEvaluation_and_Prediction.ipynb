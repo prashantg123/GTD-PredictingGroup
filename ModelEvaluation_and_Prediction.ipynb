{
 "cells": [
  {
   "cell_type": "markdown",
   "metadata": {},
   "source": [
    "### This Notebook is part of project responcible for predicting terrorist group responcible for the event by using  features in Global Terrorism Dataset(GTD). This Notebook is devided into four sections:\n",
    "### 1) Feature Selection 2) Model Selection 3) Models Optimization and 4) Prediction"
   ]
  },
  {
   "cell_type": "code",
   "execution_count": 152,
   "metadata": {},
   "outputs": [],
   "source": [
    "import pandas as pd\n",
    "import numpy as np\n",
    "from collections import Counter\n",
    "#from sklearn import preprocessing\n",
    "from sklearn.preprocessing import scale\n",
    "import time\n",
    "\n",
    "#from sklearn import decomposition\n",
    "#from sklearn.feature_extraction import DictVectorizer\n",
    "from sklearn.decomposition import PCA, TruncatedSVD\n",
    "import matplotlib.pyplot as plt\n",
    "import seaborn as sns\n",
    "%matplotlib inline\n",
    "\n",
    "from sklearn.tree import DecisionTreeClassifier\n",
    "from sklearn.linear_model import LogisticRegression, Perceptron, SGDClassifier\n",
    "from sklearn.ensemble import GradientBoostingClassifier, RandomForestClassifier, BaggingClassifier, AdaBoostClassifier\n",
    "from sklearn.neighbors import KNeighborsClassifier\n",
    "from sklearn.discriminant_analysis import LinearDiscriminantAnalysis\n",
    "from sklearn.naive_bayes import GaussianNB\n",
    "from sklearn.svm import LinearSVC\n",
    "from sklearn.neural_network import MLPClassifier\n",
    "\n",
    "\n",
    "from sklearn.model_selection import train_test_split, cross_val_score, GridSearchCV,RandomizedSearchCV, KFold, cross_val_predict\n",
    "from sklearn.metrics import classification_report, confusion_matrix, accuracy_score\n"
   ]
  },
  {
   "cell_type": "markdown",
   "metadata": {},
   "source": [
    "Reading data from preprocessed data saved from preprocessing file previously."
   ]
  },
  {
   "cell_type": "code",
   "execution_count": 2,
   "metadata": {
    "scrolled": true
   },
   "outputs": [],
   "source": [
    "#gtd_processed = pd.read_csv(\"C:/Users/Prashant/Downloads/GTD/DownloadedCode/GlobalTerrorismAttacks-master/gtd_processed_features.csv\", encoding='ISO-8859-1', low_memory=False)\n",
    "gtd_processed = pd.read_csv(\"../gtd_processed_features.csv\", encoding='ISO-8859-1', low_memory=False)\n",
    "gtd=gtd_processed"
   ]
  },
  {
   "cell_type": "code",
   "execution_count": 97,
   "metadata": {},
   "outputs": [
    {
     "data": {
      "text/html": [
       "<div>\n",
       "<style>\n",
       "    .dataframe thead tr:only-child th {\n",
       "        text-align: right;\n",
       "    }\n",
       "\n",
       "    .dataframe thead th {\n",
       "        text-align: left;\n",
       "    }\n",
       "\n",
       "    .dataframe tbody tr th {\n",
       "        vertical-align: top;\n",
       "    }\n",
       "</style>\n",
       "<table border=\"1\" class=\"dataframe\">\n",
       "  <thead>\n",
       "    <tr style=\"text-align: right;\">\n",
       "      <th></th>\n",
       "      <th>count</th>\n",
       "      <th>mean</th>\n",
       "      <th>std</th>\n",
       "      <th>min</th>\n",
       "      <th>25%</th>\n",
       "      <th>50%</th>\n",
       "      <th>75%</th>\n",
       "      <th>max</th>\n",
       "    </tr>\n",
       "  </thead>\n",
       "  <tbody>\n",
       "    <tr>\n",
       "      <th>iyear</th>\n",
       "      <td>88657.0</td>\n",
       "      <td>1999.630430</td>\n",
       "      <td>13.752983</td>\n",
       "      <td>1970.0</td>\n",
       "      <td>1988.0</td>\n",
       "      <td>2001.0</td>\n",
       "      <td>2014.0</td>\n",
       "      <td>2016.0</td>\n",
       "    </tr>\n",
       "    <tr>\n",
       "      <th>country</th>\n",
       "      <td>88657.0</td>\n",
       "      <td>141.015002</td>\n",
       "      <td>127.035794</td>\n",
       "      <td>4.0</td>\n",
       "      <td>61.0</td>\n",
       "      <td>137.0</td>\n",
       "      <td>182.0</td>\n",
       "      <td>1004.0</td>\n",
       "    </tr>\n",
       "    <tr>\n",
       "      <th>crit1</th>\n",
       "      <td>88657.0</td>\n",
       "      <td>0.997191</td>\n",
       "      <td>0.052922</td>\n",
       "      <td>0.0</td>\n",
       "      <td>1.0</td>\n",
       "      <td>1.0</td>\n",
       "      <td>1.0</td>\n",
       "      <td>1.0</td>\n",
       "    </tr>\n",
       "    <tr>\n",
       "      <th>crit2</th>\n",
       "      <td>88657.0</td>\n",
       "      <td>0.991281</td>\n",
       "      <td>0.092968</td>\n",
       "      <td>0.0</td>\n",
       "      <td>1.0</td>\n",
       "      <td>1.0</td>\n",
       "      <td>1.0</td>\n",
       "      <td>1.0</td>\n",
       "    </tr>\n",
       "    <tr>\n",
       "      <th>crit3</th>\n",
       "      <td>88657.0</td>\n",
       "      <td>0.843205</td>\n",
       "      <td>0.363610</td>\n",
       "      <td>0.0</td>\n",
       "      <td>1.0</td>\n",
       "      <td>1.0</td>\n",
       "      <td>1.0</td>\n",
       "      <td>1.0</td>\n",
       "    </tr>\n",
       "    <tr>\n",
       "      <th>attacktype1</th>\n",
       "      <td>88657.0</td>\n",
       "      <td>3.362476</td>\n",
       "      <td>2.077021</td>\n",
       "      <td>1.0</td>\n",
       "      <td>2.0</td>\n",
       "      <td>3.0</td>\n",
       "      <td>3.0</td>\n",
       "      <td>9.0</td>\n",
       "    </tr>\n",
       "    <tr>\n",
       "      <th>targtype1</th>\n",
       "      <td>88657.0</td>\n",
       "      <td>8.122822</td>\n",
       "      <td>6.576533</td>\n",
       "      <td>1.0</td>\n",
       "      <td>3.0</td>\n",
       "      <td>4.0</td>\n",
       "      <td>14.0</td>\n",
       "      <td>22.0</td>\n",
       "    </tr>\n",
       "    <tr>\n",
       "      <th>targsubtype1</th>\n",
       "      <td>88657.0</td>\n",
       "      <td>45.736783</td>\n",
       "      <td>30.320362</td>\n",
       "      <td>1.0</td>\n",
       "      <td>23.0</td>\n",
       "      <td>34.0</td>\n",
       "      <td>73.0</td>\n",
       "      <td>111.0</td>\n",
       "    </tr>\n",
       "    <tr>\n",
       "      <th>weaptype1</th>\n",
       "      <td>88657.0</td>\n",
       "      <td>6.586767</td>\n",
       "      <td>2.401062</td>\n",
       "      <td>1.0</td>\n",
       "      <td>5.0</td>\n",
       "      <td>6.0</td>\n",
       "      <td>6.0</td>\n",
       "      <td>13.0</td>\n",
       "    </tr>\n",
       "    <tr>\n",
       "      <th>weapsubtype1</th>\n",
       "      <td>88657.0</td>\n",
       "      <td>10.346538</td>\n",
       "      <td>6.005136</td>\n",
       "      <td>1.0</td>\n",
       "      <td>5.0</td>\n",
       "      <td>11.0</td>\n",
       "      <td>16.0</td>\n",
       "      <td>30.0</td>\n",
       "    </tr>\n",
       "    <tr>\n",
       "      <th>ransom</th>\n",
       "      <td>88657.0</td>\n",
       "      <td>-0.072121</td>\n",
       "      <td>0.854242</td>\n",
       "      <td>-9.0</td>\n",
       "      <td>0.0</td>\n",
       "      <td>0.0</td>\n",
       "      <td>0.0</td>\n",
       "      <td>1.0</td>\n",
       "    </tr>\n",
       "    <tr>\n",
       "      <th>nkill</th>\n",
       "      <td>88657.0</td>\n",
       "      <td>3.082825</td>\n",
       "      <td>14.422012</td>\n",
       "      <td>0.0</td>\n",
       "      <td>0.0</td>\n",
       "      <td>1.0</td>\n",
       "      <td>2.0</td>\n",
       "      <td>1500.0</td>\n",
       "    </tr>\n",
       "    <tr>\n",
       "      <th>nwound</th>\n",
       "      <td>88657.0</td>\n",
       "      <td>-0.072121</td>\n",
       "      <td>0.854242</td>\n",
       "      <td>-9.0</td>\n",
       "      <td>0.0</td>\n",
       "      <td>0.0</td>\n",
       "      <td>0.0</td>\n",
       "      <td>1.0</td>\n",
       "    </tr>\n",
       "    <tr>\n",
       "      <th>guncertain1</th>\n",
       "      <td>88657.0</td>\n",
       "      <td>0.155588</td>\n",
       "      <td>0.362467</td>\n",
       "      <td>0.0</td>\n",
       "      <td>0.0</td>\n",
       "      <td>0.0</td>\n",
       "      <td>0.0</td>\n",
       "      <td>1.0</td>\n",
       "    </tr>\n",
       "    <tr>\n",
       "      <th>ishostkid</th>\n",
       "      <td>88657.0</td>\n",
       "      <td>0.073925</td>\n",
       "      <td>0.514186</td>\n",
       "      <td>-9.0</td>\n",
       "      <td>0.0</td>\n",
       "      <td>0.0</td>\n",
       "      <td>0.0</td>\n",
       "      <td>1.0</td>\n",
       "    </tr>\n",
       "    <tr>\n",
       "      <th>casualties</th>\n",
       "      <td>88657.0</td>\n",
       "      <td>3.010704</td>\n",
       "      <td>14.448865</td>\n",
       "      <td>-9.0</td>\n",
       "      <td>0.0</td>\n",
       "      <td>1.0</td>\n",
       "      <td>2.0</td>\n",
       "      <td>1500.0</td>\n",
       "    </tr>\n",
       "    <tr>\n",
       "      <th>nclass</th>\n",
       "      <td>88657.0</td>\n",
       "      <td>0.558298</td>\n",
       "      <td>0.496593</td>\n",
       "      <td>0.0</td>\n",
       "      <td>0.0</td>\n",
       "      <td>1.0</td>\n",
       "      <td>1.0</td>\n",
       "      <td>1.0</td>\n",
       "    </tr>\n",
       "  </tbody>\n",
       "</table>\n",
       "</div>"
      ],
      "text/plain": [
       "                count         mean         std     min     25%     50%  \\\n",
       "iyear         88657.0  1999.630430   13.752983  1970.0  1988.0  2001.0   \n",
       "country       88657.0   141.015002  127.035794     4.0    61.0   137.0   \n",
       "crit1         88657.0     0.997191    0.052922     0.0     1.0     1.0   \n",
       "crit2         88657.0     0.991281    0.092968     0.0     1.0     1.0   \n",
       "crit3         88657.0     0.843205    0.363610     0.0     1.0     1.0   \n",
       "attacktype1   88657.0     3.362476    2.077021     1.0     2.0     3.0   \n",
       "targtype1     88657.0     8.122822    6.576533     1.0     3.0     4.0   \n",
       "targsubtype1  88657.0    45.736783   30.320362     1.0    23.0    34.0   \n",
       "weaptype1     88657.0     6.586767    2.401062     1.0     5.0     6.0   \n",
       "weapsubtype1  88657.0    10.346538    6.005136     1.0     5.0    11.0   \n",
       "ransom        88657.0    -0.072121    0.854242    -9.0     0.0     0.0   \n",
       "nkill         88657.0     3.082825   14.422012     0.0     0.0     1.0   \n",
       "nwound        88657.0    -0.072121    0.854242    -9.0     0.0     0.0   \n",
       "guncertain1   88657.0     0.155588    0.362467     0.0     0.0     0.0   \n",
       "ishostkid     88657.0     0.073925    0.514186    -9.0     0.0     0.0   \n",
       "casualties    88657.0     3.010704   14.448865    -9.0     0.0     1.0   \n",
       "nclass        88657.0     0.558298    0.496593     0.0     0.0     1.0   \n",
       "\n",
       "                 75%     max  \n",
       "iyear         2014.0  2016.0  \n",
       "country        182.0  1004.0  \n",
       "crit1            1.0     1.0  \n",
       "crit2            1.0     1.0  \n",
       "crit3            1.0     1.0  \n",
       "attacktype1      3.0     9.0  \n",
       "targtype1       14.0    22.0  \n",
       "targsubtype1    73.0   111.0  \n",
       "weaptype1        6.0    13.0  \n",
       "weapsubtype1    16.0    30.0  \n",
       "ransom           0.0     1.0  \n",
       "nkill            2.0  1500.0  \n",
       "nwound           0.0     1.0  \n",
       "guncertain1      0.0     1.0  \n",
       "ishostkid        0.0     1.0  \n",
       "casualties       2.0  1500.0  \n",
       "nclass           1.0     1.0  "
      ]
     },
     "execution_count": 97,
     "metadata": {},
     "output_type": "execute_result"
    }
   ],
   "source": [
    "gtd.describe().transpose()"
   ]
  },
  {
   "cell_type": "markdown",
   "metadata": {},
   "source": [
    "### 1) Feature Selection"
   ]
  },
  {
   "cell_type": "markdown",
   "metadata": {},
   "source": [
    "Seperated target column i.e. gname and rest of the columns as features. "
   ]
  },
  {
   "cell_type": "code",
   "execution_count": 4,
   "metadata": {},
   "outputs": [],
   "source": [
    "target=gtd[\"gname\"]\n",
    "features = gtd[['iyear', 'country', 'crit1', 'crit2', 'crit3', 'attacktype1', 'targtype1', \n",
    "                'targsubtype1', 'weaptype1', 'weapsubtype1', 'ransom', 'casualties', 'ishostkid']]"
   ]
  },
  {
   "cell_type": "code",
   "execution_count": null,
   "metadata": {},
   "outputs": [],
   "source": [
    "#from sklearn.feature_extraction import DictVectorizer\n",
    "#df = (pd.DataFrame(features)).to_dict(orient='records')\n",
    "#dv = DictVectorizer(sparse=False) \n",
    "#featuresdv = dv.fit_transform(features.to_dict(orient='records'))\n",
    "#featuresdv\n",
    "#cc=PCA(n_components=11)\n",
    "#X=cc.fit_transform(featuresdv)\n",
    "#sklearn_transf = scale(X)\n",
    "#sklearn_transf\n",
    "\n",
    "plt.plot(sklearn_transf[0:5,0],sklearn_transf[0:5,1], 'o', markersize=7, color='blue', alpha=0.5, label='class1')\n",
    "plt.plot(sklearn_transf[6:11,0], sklearn_transf[6:11,1], '^', markersize=7, color='red', alpha=0.5, label='class2')\n",
    "\n",
    "plt.xlabel('x_values')\n",
    "plt.ylabel('y_values')\n",
    "plt.xlim([-1,1])\n",
    "plt.ylim([-1,1])\n",
    "plt.legend()\n",
    "plt.title('Transformed samples with class labels from matplotlib.mlab.PCA()')\n",
    "\n",
    "plt.show()"
   ]
  },
  {
   "cell_type": "code",
   "execution_count": 5,
   "metadata": {},
   "outputs": [
    {
     "data": {
      "text/html": [
       "<div>\n",
       "<style>\n",
       "    .dataframe thead tr:only-child th {\n",
       "        text-align: right;\n",
       "    }\n",
       "\n",
       "    .dataframe thead th {\n",
       "        text-align: left;\n",
       "    }\n",
       "\n",
       "    .dataframe tbody tr th {\n",
       "        vertical-align: top;\n",
       "    }\n",
       "</style>\n",
       "<table border=\"1\" class=\"dataframe\">\n",
       "  <thead>\n",
       "    <tr style=\"text-align: right;\">\n",
       "      <th></th>\n",
       "      <th>iyear</th>\n",
       "      <th>country</th>\n",
       "      <th>crit1</th>\n",
       "      <th>crit2</th>\n",
       "      <th>crit3</th>\n",
       "      <th>attacktype1</th>\n",
       "      <th>targtype1</th>\n",
       "      <th>targsubtype1</th>\n",
       "      <th>weaptype1</th>\n",
       "      <th>weapsubtype1</th>\n",
       "      <th>ransom</th>\n",
       "      <th>casualties</th>\n",
       "      <th>ishostkid</th>\n",
       "    </tr>\n",
       "  </thead>\n",
       "  <tbody>\n",
       "    <tr>\n",
       "      <th>0</th>\n",
       "      <td>1970</td>\n",
       "      <td>130</td>\n",
       "      <td>1</td>\n",
       "      <td>1</td>\n",
       "      <td>1</td>\n",
       "      <td>6</td>\n",
       "      <td>7</td>\n",
       "      <td>45</td>\n",
       "      <td>13</td>\n",
       "      <td>11</td>\n",
       "      <td>1.0</td>\n",
       "      <td>1</td>\n",
       "      <td>1.0</td>\n",
       "    </tr>\n",
       "    <tr>\n",
       "      <th>1</th>\n",
       "      <td>1970</td>\n",
       "      <td>217</td>\n",
       "      <td>1</td>\n",
       "      <td>1</td>\n",
       "      <td>1</td>\n",
       "      <td>2</td>\n",
       "      <td>3</td>\n",
       "      <td>22</td>\n",
       "      <td>5</td>\n",
       "      <td>5</td>\n",
       "      <td>0.0</td>\n",
       "      <td>0</td>\n",
       "      <td>0.0</td>\n",
       "    </tr>\n",
       "    <tr>\n",
       "      <th>2</th>\n",
       "      <td>1970</td>\n",
       "      <td>218</td>\n",
       "      <td>1</td>\n",
       "      <td>1</td>\n",
       "      <td>1</td>\n",
       "      <td>1</td>\n",
       "      <td>3</td>\n",
       "      <td>25</td>\n",
       "      <td>5</td>\n",
       "      <td>2</td>\n",
       "      <td>0.0</td>\n",
       "      <td>0</td>\n",
       "      <td>0.0</td>\n",
       "    </tr>\n",
       "    <tr>\n",
       "      <th>3</th>\n",
       "      <td>1970</td>\n",
       "      <td>217</td>\n",
       "      <td>1</td>\n",
       "      <td>1</td>\n",
       "      <td>1</td>\n",
       "      <td>7</td>\n",
       "      <td>4</td>\n",
       "      <td>28</td>\n",
       "      <td>8</td>\n",
       "      <td>19</td>\n",
       "      <td>0.0</td>\n",
       "      <td>0</td>\n",
       "      <td>0.0</td>\n",
       "    </tr>\n",
       "    <tr>\n",
       "      <th>4</th>\n",
       "      <td>1970</td>\n",
       "      <td>217</td>\n",
       "      <td>1</td>\n",
       "      <td>1</td>\n",
       "      <td>1</td>\n",
       "      <td>7</td>\n",
       "      <td>2</td>\n",
       "      <td>21</td>\n",
       "      <td>8</td>\n",
       "      <td>20</td>\n",
       "      <td>0.0</td>\n",
       "      <td>0</td>\n",
       "      <td>0.0</td>\n",
       "    </tr>\n",
       "  </tbody>\n",
       "</table>\n",
       "</div>"
      ],
      "text/plain": [
       "   iyear  country  crit1  crit2  crit3  attacktype1  targtype1  targsubtype1  \\\n",
       "0   1970      130      1      1      1            6          7            45   \n",
       "1   1970      217      1      1      1            2          3            22   \n",
       "2   1970      218      1      1      1            1          3            25   \n",
       "3   1970      217      1      1      1            7          4            28   \n",
       "4   1970      217      1      1      1            7          2            21   \n",
       "\n",
       "   weaptype1  weapsubtype1  ransom  casualties  ishostkid  \n",
       "0         13            11     1.0           1        1.0  \n",
       "1          5             5     0.0           0        0.0  \n",
       "2          5             2     0.0           0        0.0  \n",
       "3          8            19     0.0           0        0.0  \n",
       "4          8            20     0.0           0        0.0  "
      ]
     },
     "execution_count": 5,
     "metadata": {},
     "output_type": "execute_result"
    }
   ],
   "source": [
    "features.head(5)"
   ]
  },
  {
   "cell_type": "code",
   "execution_count": 6,
   "metadata": {},
   "outputs": [
    {
     "data": {
      "text/plain": [
       "(88657, 11)"
      ]
     },
     "execution_count": 6,
     "metadata": {},
     "output_type": "execute_result"
    }
   ],
   "source": [
    "pca=PCA(n_components=11)\n",
    "X=pca.fit_transform(features)\n",
    "#sklearn_transf = scale(X)\n",
    "X.shape"
   ]
  },
  {
   "cell_type": "code",
   "execution_count": 7,
   "metadata": {},
   "outputs": [
    {
     "name": "stdout",
     "output_type": "stream",
     "text": [
      "[  9.20281301e-01   5.45722285e-02   1.20018409e-02   1.02097933e-02\n",
      "   2.05907340e-03   4.30601761e-04   2.97151317e-04   8.53852260e-05\n",
      "   4.11670249e-05   1.41966807e-05   6.62023759e-06]\n",
      "[ 0.9202813   0.97485353  0.98685537  0.99706516  0.99912424  0.99955484\n",
      "  0.99985199  0.99993738  0.99997854  0.99999274  0.99999936]\n"
     ]
    },
    {
     "data": {
      "text/plain": [
       "[<matplotlib.lines.Line2D at 0xd1e3cf8>]"
      ]
     },
     "execution_count": 7,
     "metadata": {},
     "output_type": "execute_result"
    },
    {
     "data": {
      "image/png": "iVBORw0KGgoAAAANSUhEUgAAAXcAAAD3CAYAAADmBxSSAAAABHNCSVQICAgIfAhkiAAAAAlwSFlz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\n",
      "text/plain": [
       "<matplotlib.figure.Figure at 0xc657438>"
      ]
     },
     "metadata": {},
     "output_type": "display_data"
    }
   ],
   "source": [
    "print(pca.explained_variance_ratio_)\n",
    "print(pca.explained_variance_ratio_.cumsum())\n",
    "cumVar=pca.explained_variance_ratio_.cumsum()\n",
    "plt.plot(cumVar)"
   ]
  },
  {
   "cell_type": "markdown",
   "metadata": {},
   "source": [
    "We can see that 99% variation can be explained by 3 features."
   ]
  },
  {
   "cell_type": "code",
   "execution_count": 8,
   "metadata": {
    "collapsed": true
   },
   "outputs": [],
   "source": [
    "pca=PCA(n_components=3)\n",
    "reducedFeatures = pca.fit_transform(features)\n"
   ]
  },
  {
   "cell_type": "markdown",
   "metadata": {},
   "source": [
    "### 2) Model selection"
   ]
  },
  {
   "cell_type": "markdown",
   "metadata": {},
   "source": [
    "Dividing featured data into training and validation sets"
   ]
  },
  {
   "cell_type": "code",
   "execution_count": 9,
   "metadata": {},
   "outputs": [],
   "source": [
    "X_train, X_val, Y_train, Y_val = train_test_split(reducedFeatures, target, test_size=.2, random_state=0)"
   ]
  },
  {
   "cell_type": "markdown",
   "metadata": {},
   "source": [
    "Creating model pipeline by adding various machine learning models in an array with default parameters"
   ]
  },
  {
   "cell_type": "code",
   "execution_count": 110,
   "metadata": {},
   "outputs": [],
   "source": [
    "models=[]\n",
    "#models.append((\"KNN\", KNeighborsClassifier()))\n",
    "#models.append((\"DT\", DecisionTreeClassifier()))\n",
    "#models.append((\"RF\", RandomForestClassifier()))\n",
    "#models.append((\"GNB\", GaussianNB()))\n",
    "#models.append((\"LDA\", LinearDiscriminantAnalysis()))\n",
    "#model.append((\"SVM\", SVC()))\n",
    "   \n",
    "# K-Nearest Neighbor:\n",
    "models.append((\"KNN\", KNeighborsClassifier()))\n",
    "\n",
    "# Linear Models\n",
    "#models.append(('Logistic_Regression', LogisticRegression(n_jobs = -1, random_state = 56, penalty = 'l1')))\n",
    "\n",
    "#'Perceptron' : Perceptron(n_iter = 20, n_jobs = -1, random_state= 56),\n",
    "models.append(('SGD Classifier', SGDClassifier(penalty = 'l1', n_jobs = -1, random_state= 56)))\n",
    "\n",
    "# Naive Bayes:\n",
    "#models.append(('Gaussian Naive-Bayes', GaussianNB()))\n",
    "\n",
    "# Decision Tree & Ensemble\n",
    "#models.append(('Decision Tree Classifier', DecisionTreeClassifier(random_state= 56)))\n",
    "models.append(('Random Forest Classifier',  RandomForestClassifier(n_jobs = -1, random_state= 56)))\n",
    "#models.append(('Gradient Boosting Classifier', GradientBoostingClassifier(random_state= 56)))\n",
    "#models.append(('AdA Boost Classifier', AdaBoostClassifier(random_state = 56)))\n",
    "#models.append(('Bagging Classifier', BaggingClassifier(random_state= 56, n_jobs = -1)))\n",
    "\n",
    "# Support Vector Machine\n",
    "#models.append(('Linear SVC', LinearSVC(penalty = 'l1', random_state = 56, dual = False)))\n",
    "\n",
    "# Multi-Layer Perceptron (Neural Network):\n",
    "#models.append(('MLP Classifier', MLPClassifier(activation = 'logistic', random_state = 56, max_iter=4)))"
   ]
  },
  {
   "cell_type": "markdown",
   "metadata": {},
   "source": [
    "Variables to store validation results and setting parameters"
   ]
  },
  {
   "cell_type": "code",
   "execution_count": 113,
   "metadata": {
    "scrolled": true
   },
   "outputs": [],
   "source": [
    "results= pd.DataFrame(columns=['model', 'score', 'time(sec)'])\n",
    "scoring='accuracy'\n",
    "seed=0\n",
    "kFold_n_splits=2 #setup this number with accuracy vs time to execute trade off."
   ]
  },
  {
   "cell_type": "markdown",
   "metadata": {},
   "source": [
    "Executing cross validation steps for each model enabled above and storing results."
   ]
  },
  {
   "cell_type": "code",
   "execution_count": 114,
   "metadata": {
    "scrolled": true
   },
   "outputs": [
    {
     "name": "stdout",
     "output_type": "stream",
     "text": [
      "0\n",
      "KNN\n",
      "KNN: 0.607% - 2.723 seconds\n",
      "1\n",
      "SGD Classifier\n",
      "SGD Classifier: 0.038% - 8.732 seconds\n",
      "2\n",
      "Random Forest Classifier\n",
      "Random Forest Classifier: 0.628% - 8.661 seconds\n"
     ]
    }
   ],
   "source": [
    "for model,n in zip(models, np.arange(len(models))):\n",
    "    start_time =time.time()\n",
    "    #get the Cv score\n",
    "    kfold = KFold(n_splits=kFold_n_splits, random_state=seed)\n",
    "    cv_score = cross_val_score(model[1], X_train, Y_train, cv=kfold, scoring=scoring)\n",
    "\n",
    "    #storeing results\n",
    "    time_taken = round((time.time() - start_time),3)\n",
    "    name=model[0]\n",
    "    results.loc[n]=[name, cv_score.mean(), time_taken]\n",
    "    msg = \"%s: %.3f%% - %s seconds\" % (name, cv_score.mean(), time_taken)\n",
    "    print(msg)"
   ]
  },
  {
   "cell_type": "markdown",
   "metadata": {},
   "source": [
    "### Displaying previous results as some algorithms takes much longer\n",
    "KNN: 0.606937% - 2.707 seconds\n",
    "Logistic_Regression: 0.241015% - 165.59 seconds\n",
    "SGD Classifier: 0.038181% - 8.477 seconds\n",
    "Gaussian Naive-Bayes: 0.251731% - 7.302 seconds\n",
    "Decision Tree Classifier: 0.646528% - 5.19 seconds\n",
    "Random Forest Classifier: 0.628001% - 8.144 seconds\n",
    "AdA Boost Classifier: 0.135326% - 343.342 seconds\n",
    "Bagging Classifier: 0.677335% - 44.081 seconds\n",
    "Linear SVC: 0.235855% - 271.354 seconds\n",
    "MLP Classifier: 0.300529% - 26.864 seconds"
   ]
  },
  {
   "cell_type": "markdown",
   "metadata": {},
   "source": [
    "Sort model on the base of cross validation score"
   ]
  },
  {
   "cell_type": "code",
   "execution_count": 120,
   "metadata": {},
   "outputs": [
    {
     "data": {
      "text/html": [
       "<div>\n",
       "<style>\n",
       "    .dataframe thead tr:only-child th {\n",
       "        text-align: right;\n",
       "    }\n",
       "\n",
       "    .dataframe thead th {\n",
       "        text-align: left;\n",
       "    }\n",
       "\n",
       "    .dataframe tbody tr th {\n",
       "        vertical-align: top;\n",
       "    }\n",
       "</style>\n",
       "<table border=\"1\" class=\"dataframe\">\n",
       "  <thead>\n",
       "    <tr style=\"text-align: right;\">\n",
       "      <th></th>\n",
       "      <th>model</th>\n",
       "      <th>score</th>\n",
       "      <th>time(sec)</th>\n",
       "    </tr>\n",
       "  </thead>\n",
       "  <tbody>\n",
       "    <tr>\n",
       "      <th>2</th>\n",
       "      <td>Random Forest Classifier</td>\n",
       "      <td>0.628001</td>\n",
       "      <td>8.661</td>\n",
       "    </tr>\n",
       "    <tr>\n",
       "      <th>0</th>\n",
       "      <td>KNN</td>\n",
       "      <td>0.606796</td>\n",
       "      <td>2.723</td>\n",
       "    </tr>\n",
       "    <tr>\n",
       "      <th>1</th>\n",
       "      <td>SGD Classifier</td>\n",
       "      <td>0.038181</td>\n",
       "      <td>8.732</td>\n",
       "    </tr>\n",
       "  </tbody>\n",
       "</table>\n",
       "</div>"
      ],
      "text/plain": [
       "                      model     score  time(sec)\n",
       "2  Random Forest Classifier  0.628001      8.661\n",
       "0                       KNN  0.606796      2.723\n",
       "1            SGD Classifier  0.038181      8.732"
      ]
     },
     "execution_count": 120,
     "metadata": {},
     "output_type": "execute_result"
    }
   ],
   "source": [
    "results=results.sort_values(by = 'score', ascending = False)\n",
    "results"
   ]
  },
  {
   "cell_type": "markdown",
   "metadata": {},
   "source": [
    "Compare models visually"
   ]
  },
  {
   "cell_type": "code",
   "execution_count": 116,
   "metadata": {
    "scrolled": true
   },
   "outputs": [
    {
     "data": {
      "image/png": "iVBORw0KGgoAAAANSUhEUgAAAXQAAAFDCAYAAAAqHPVGAAAABHNCSVQICAgIfAhkiAAAAAlwSFlz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\n",
      "text/plain": [
       "<matplotlib.figure.Figure at 0xe1ef588>"
      ]
     },
     "metadata": {},
     "output_type": "display_data"
    }
   ],
   "source": [
    "fig = plt.figure()\n",
    "fig.suptitle('Algorithm Comparison')\n",
    "#ax = fig.add_subplot(111)\n",
    "ax= results[\"score\"].plot(kind=\"bar\", fontsize=12, rot=20)\n",
    "ax.set_xticklabels( results[\"model\"])\n",
    "plt.show()"
   ]
  },
  {
   "cell_type": "markdown",
   "metadata": {},
   "source": [
    "### 3) Model Optimization\n"
   ]
  },
  {
   "cell_type": "markdown",
   "metadata": {},
   "source": [
    "Lets check prediction from the model resulted the best score above."
   ]
  },
  {
   "cell_type": "code",
   "execution_count": 139,
   "metadata": {
    "scrolled": true
   },
   "outputs": [
    {
     "name": "stdout",
     "output_type": "stream",
     "text": [
      "RandomForestClassifier(bootstrap=True, class_weight=None, criterion='gini',\n",
      "            max_depth=None, max_features='auto', max_leaf_nodes=None,\n",
      "            min_impurity_split=1e-07, min_samples_leaf=1,\n",
      "            min_samples_split=2, min_weight_fraction_leaf=0.0,\n",
      "            n_estimators=10, n_jobs=-1, oob_score=False, random_state=56,\n",
      "            verbose=0, warm_start=False) \n",
      "\n",
      "Pradictions: \n",
      " ['inkatha freedom party (ifp)' 'national liberation army of colombia (eln)'\n",
      " 'islamic state of iraq and the levant (isil)' ...,\n",
      " \"new people's army (npa)\" 'communist party of india - maoist (cpi-maoist)'\n",
      " 'revolutionary armed forces of colombia (farc)'] \n",
      "\n",
      "Accuracy Score: \n",
      " 0.66 \n",
      "\n",
      "[[0 0 0 ..., 0 0 0]\n",
      " [0 1 0 ..., 0 0 0]\n",
      " [0 0 4 ..., 0 0 0]\n",
      " ..., \n",
      " [0 0 0 ..., 1 0 0]\n",
      " [0 0 0 ..., 0 0 0]\n",
      " [0 0 0 ..., 1 0 0]]\n"
     ]
    }
   ],
   "source": [
    "bestModel=[a[1] for a in models if a[0] == results.iloc[0][\"model\"]][0]\n",
    "bestModel.fit(X_train, Y_train)\n",
    "predictions = bestModel.predict(X_val)\n",
    "\n",
    "print(bestModel, \"\\n\")\n",
    "print(\"Pradictions: \\n\", predictions, \"\\n\")\n",
    "print(\"Accuracy Score: \\n {:.2f}\".format(accuracy_score(Y_val, predictions)), \"\\n\")\n",
    "print(confusion_matrix(Y_val, predictions))\n",
    "#print(classification_report(Y_validation, predictions))"
   ]
  },
  {
   "cell_type": "markdown",
   "metadata": {},
   "source": [
    "Optimizing RandomForestClassifier using GridSearchCV and find the best parameters"
   ]
  },
  {
   "cell_type": "code",
   "execution_count": 158,
   "metadata": {
    "scrolled": true
   },
   "outputs": [
    {
     "name": "stderr",
     "output_type": "stream",
     "text": [
      "C:\\ProgramData\\Anaconda3\\lib\\site-packages\\sklearn\\model_selection\\_split.py:581: Warning: The least populated class in y has only 1 members, which is too few. The minimum number of groups for any class cannot be less than n_splits=2.\n",
      "  % (min_groups, self.n_splits)), Warning)\n",
      "[Parallel(n_jobs=-1)]: Done  36 out of  36 | elapsed:    1.6s finished\n",
      "[Parallel(n_jobs=12)]: Done  36 out of  36 | elapsed:    4.1s finished\n",
      "[Parallel(n_jobs=12)]: Done  36 out of  36 | elapsed:    3.9s finished\n",
      "[Parallel(n_jobs=-1)]: Done  36 out of  36 | elapsed:    1.6s finished\n"
     ]
    },
    {
     "ename": "KeyboardInterrupt",
     "evalue": "",
     "output_type": "error",
     "traceback": [
      "\u001b[1;31m---------------------------------------------------------------------------\u001b[0m",
      "\u001b[1;31mKeyboardInterrupt\u001b[0m                         Traceback (most recent call last)",
      "\u001b[1;32m<ipython-input-158-ae9e2b935fcc>\u001b[0m in \u001b[0;36m<module>\u001b[1;34m()\u001b[0m\n\u001b[0;32m     15\u001b[0m \u001b[1;33m\u001b[0m\u001b[0m\n\u001b[0;32m     16\u001b[0m \u001b[0mCV_rfc\u001b[0m \u001b[1;33m=\u001b[0m \u001b[0mRandomizedSearchCV\u001b[0m\u001b[1;33m(\u001b[0m\u001b[0mrfc\u001b[0m\u001b[1;33m,\u001b[0m \u001b[0mparam_grid\u001b[0m\u001b[1;33m,\u001b[0m \u001b[0mcv\u001b[0m\u001b[1;33m=\u001b[0m \u001b[1;36m2\u001b[0m\u001b[1;33m)\u001b[0m\u001b[1;33m\u001b[0m\u001b[0m\n\u001b[1;32m---> 17\u001b[1;33m \u001b[0mCV_rfc\u001b[0m\u001b[1;33m.\u001b[0m\u001b[0mfit\u001b[0m\u001b[1;33m(\u001b[0m\u001b[0mX_train\u001b[0m\u001b[1;33m,\u001b[0m \u001b[0mY_train\u001b[0m\u001b[1;33m)\u001b[0m\u001b[1;33m\u001b[0m\u001b[0m\n\u001b[0m\u001b[0;32m     18\u001b[0m \u001b[0mprint\u001b[0m\u001b[1;33m(\u001b[0m\u001b[1;34m\"RamdomSearch took {:.2f} seconds\"\u001b[0m\u001b[1;33m.\u001b[0m\u001b[0mformat\u001b[0m\u001b[1;33m(\u001b[0m\u001b[0mtime\u001b[0m\u001b[1;33m.\u001b[0m\u001b[0mtime\u001b[0m\u001b[1;33m(\u001b[0m\u001b[1;33m)\u001b[0m \u001b[1;33m-\u001b[0m \u001b[0mstart_time\u001b[0m\u001b[1;33m)\u001b[0m\u001b[1;33m)\u001b[0m\u001b[1;33m\u001b[0m\u001b[0m\n\u001b[0;32m     19\u001b[0m \u001b[1;33m\u001b[0m\u001b[0m\n",
      "\u001b[1;32mC:\\ProgramData\\Anaconda3\\lib\\site-packages\\sklearn\\model_selection\\_search.py\u001b[0m in \u001b[0;36mfit\u001b[1;34m(self, X, y, groups)\u001b[0m\n\u001b[0;32m   1188\u001b[0m                                           \u001b[0mself\u001b[0m\u001b[1;33m.\u001b[0m\u001b[0mn_iter\u001b[0m\u001b[1;33m,\u001b[0m\u001b[1;33m\u001b[0m\u001b[0m\n\u001b[0;32m   1189\u001b[0m                                           random_state=self.random_state)\n\u001b[1;32m-> 1190\u001b[1;33m         \u001b[1;32mreturn\u001b[0m \u001b[0mself\u001b[0m\u001b[1;33m.\u001b[0m\u001b[0m_fit\u001b[0m\u001b[1;33m(\u001b[0m\u001b[0mX\u001b[0m\u001b[1;33m,\u001b[0m \u001b[0my\u001b[0m\u001b[1;33m,\u001b[0m \u001b[0mgroups\u001b[0m\u001b[1;33m,\u001b[0m \u001b[0msampled_params\u001b[0m\u001b[1;33m)\u001b[0m\u001b[1;33m\u001b[0m\u001b[0m\n\u001b[0m",
      "\u001b[1;32mC:\\ProgramData\\Anaconda3\\lib\\site-packages\\sklearn\\model_selection\\_search.py\u001b[0m in \u001b[0;36m_fit\u001b[1;34m(self, X, y, groups, parameter_iterable)\u001b[0m\n\u001b[0;32m    562\u001b[0m                                   \u001b[0mreturn_times\u001b[0m\u001b[1;33m=\u001b[0m\u001b[1;32mTrue\u001b[0m\u001b[1;33m,\u001b[0m \u001b[0mreturn_parameters\u001b[0m\u001b[1;33m=\u001b[0m\u001b[1;32mTrue\u001b[0m\u001b[1;33m,\u001b[0m\u001b[1;33m\u001b[0m\u001b[0m\n\u001b[0;32m    563\u001b[0m                                   error_score=self.error_score)\n\u001b[1;32m--> 564\u001b[1;33m           \u001b[1;32mfor\u001b[0m \u001b[0mparameters\u001b[0m \u001b[1;32min\u001b[0m \u001b[0mparameter_iterable\u001b[0m\u001b[1;33m\u001b[0m\u001b[0m\n\u001b[0m\u001b[0;32m    565\u001b[0m           for train, test in cv_iter)\n\u001b[0;32m    566\u001b[0m \u001b[1;33m\u001b[0m\u001b[0m\n",
      "\u001b[1;32mC:\\ProgramData\\Anaconda3\\lib\\site-packages\\sklearn\\externals\\joblib\\parallel.py\u001b[0m in \u001b[0;36m__call__\u001b[1;34m(self, iterable)\u001b[0m\n\u001b[0;32m    756\u001b[0m             \u001b[1;31m# was dispatched. In particular this covers the edge\u001b[0m\u001b[1;33m\u001b[0m\u001b[1;33m\u001b[0m\u001b[0m\n\u001b[0;32m    757\u001b[0m             \u001b[1;31m# case of Parallel used with an exhausted iterator.\u001b[0m\u001b[1;33m\u001b[0m\u001b[1;33m\u001b[0m\u001b[0m\n\u001b[1;32m--> 758\u001b[1;33m             \u001b[1;32mwhile\u001b[0m \u001b[0mself\u001b[0m\u001b[1;33m.\u001b[0m\u001b[0mdispatch_one_batch\u001b[0m\u001b[1;33m(\u001b[0m\u001b[0miterator\u001b[0m\u001b[1;33m)\u001b[0m\u001b[1;33m:\u001b[0m\u001b[1;33m\u001b[0m\u001b[0m\n\u001b[0m\u001b[0;32m    759\u001b[0m                 \u001b[0mself\u001b[0m\u001b[1;33m.\u001b[0m\u001b[0m_iterating\u001b[0m \u001b[1;33m=\u001b[0m \u001b[1;32mTrue\u001b[0m\u001b[1;33m\u001b[0m\u001b[0m\n\u001b[0;32m    760\u001b[0m             \u001b[1;32melse\u001b[0m\u001b[1;33m:\u001b[0m\u001b[1;33m\u001b[0m\u001b[0m\n",
      "\u001b[1;32mC:\\ProgramData\\Anaconda3\\lib\\site-packages\\sklearn\\externals\\joblib\\parallel.py\u001b[0m in \u001b[0;36mdispatch_one_batch\u001b[1;34m(self, iterator)\u001b[0m\n\u001b[0;32m    606\u001b[0m                 \u001b[1;32mreturn\u001b[0m \u001b[1;32mFalse\u001b[0m\u001b[1;33m\u001b[0m\u001b[0m\n\u001b[0;32m    607\u001b[0m             \u001b[1;32melse\u001b[0m\u001b[1;33m:\u001b[0m\u001b[1;33m\u001b[0m\u001b[0m\n\u001b[1;32m--> 608\u001b[1;33m                 \u001b[0mself\u001b[0m\u001b[1;33m.\u001b[0m\u001b[0m_dispatch\u001b[0m\u001b[1;33m(\u001b[0m\u001b[0mtasks\u001b[0m\u001b[1;33m)\u001b[0m\u001b[1;33m\u001b[0m\u001b[0m\n\u001b[0m\u001b[0;32m    609\u001b[0m                 \u001b[1;32mreturn\u001b[0m \u001b[1;32mTrue\u001b[0m\u001b[1;33m\u001b[0m\u001b[0m\n\u001b[0;32m    610\u001b[0m \u001b[1;33m\u001b[0m\u001b[0m\n",
      "\u001b[1;32mC:\\ProgramData\\Anaconda3\\lib\\site-packages\\sklearn\\externals\\joblib\\parallel.py\u001b[0m in \u001b[0;36m_dispatch\u001b[1;34m(self, batch)\u001b[0m\n\u001b[0;32m    569\u001b[0m         \u001b[0mdispatch_timestamp\u001b[0m \u001b[1;33m=\u001b[0m \u001b[0mtime\u001b[0m\u001b[1;33m.\u001b[0m\u001b[0mtime\u001b[0m\u001b[1;33m(\u001b[0m\u001b[1;33m)\u001b[0m\u001b[1;33m\u001b[0m\u001b[0m\n\u001b[0;32m    570\u001b[0m         \u001b[0mcb\u001b[0m \u001b[1;33m=\u001b[0m \u001b[0mBatchCompletionCallBack\u001b[0m\u001b[1;33m(\u001b[0m\u001b[0mdispatch_timestamp\u001b[0m\u001b[1;33m,\u001b[0m \u001b[0mlen\u001b[0m\u001b[1;33m(\u001b[0m\u001b[0mbatch\u001b[0m\u001b[1;33m)\u001b[0m\u001b[1;33m,\u001b[0m \u001b[0mself\u001b[0m\u001b[1;33m)\u001b[0m\u001b[1;33m\u001b[0m\u001b[0m\n\u001b[1;32m--> 571\u001b[1;33m         \u001b[0mjob\u001b[0m \u001b[1;33m=\u001b[0m \u001b[0mself\u001b[0m\u001b[1;33m.\u001b[0m\u001b[0m_backend\u001b[0m\u001b[1;33m.\u001b[0m\u001b[0mapply_async\u001b[0m\u001b[1;33m(\u001b[0m\u001b[0mbatch\u001b[0m\u001b[1;33m,\u001b[0m \u001b[0mcallback\u001b[0m\u001b[1;33m=\u001b[0m\u001b[0mcb\u001b[0m\u001b[1;33m)\u001b[0m\u001b[1;33m\u001b[0m\u001b[0m\n\u001b[0m\u001b[0;32m    572\u001b[0m         \u001b[0mself\u001b[0m\u001b[1;33m.\u001b[0m\u001b[0m_jobs\u001b[0m\u001b[1;33m.\u001b[0m\u001b[0mappend\u001b[0m\u001b[1;33m(\u001b[0m\u001b[0mjob\u001b[0m\u001b[1;33m)\u001b[0m\u001b[1;33m\u001b[0m\u001b[0m\n\u001b[0;32m    573\u001b[0m \u001b[1;33m\u001b[0m\u001b[0m\n",
      "\u001b[1;32mC:\\ProgramData\\Anaconda3\\lib\\site-packages\\sklearn\\externals\\joblib\\_parallel_backends.py\u001b[0m in \u001b[0;36mapply_async\u001b[1;34m(self, func, callback)\u001b[0m\n\u001b[0;32m    107\u001b[0m     \u001b[1;32mdef\u001b[0m \u001b[0mapply_async\u001b[0m\u001b[1;33m(\u001b[0m\u001b[0mself\u001b[0m\u001b[1;33m,\u001b[0m \u001b[0mfunc\u001b[0m\u001b[1;33m,\u001b[0m \u001b[0mcallback\u001b[0m\u001b[1;33m=\u001b[0m\u001b[1;32mNone\u001b[0m\u001b[1;33m)\u001b[0m\u001b[1;33m:\u001b[0m\u001b[1;33m\u001b[0m\u001b[0m\n\u001b[0;32m    108\u001b[0m         \u001b[1;34m\"\"\"Schedule a func to be run\"\"\"\u001b[0m\u001b[1;33m\u001b[0m\u001b[0m\n\u001b[1;32m--> 109\u001b[1;33m         \u001b[0mresult\u001b[0m \u001b[1;33m=\u001b[0m \u001b[0mImmediateResult\u001b[0m\u001b[1;33m(\u001b[0m\u001b[0mfunc\u001b[0m\u001b[1;33m)\u001b[0m\u001b[1;33m\u001b[0m\u001b[0m\n\u001b[0m\u001b[0;32m    110\u001b[0m         \u001b[1;32mif\u001b[0m \u001b[0mcallback\u001b[0m\u001b[1;33m:\u001b[0m\u001b[1;33m\u001b[0m\u001b[0m\n\u001b[0;32m    111\u001b[0m             \u001b[0mcallback\u001b[0m\u001b[1;33m(\u001b[0m\u001b[0mresult\u001b[0m\u001b[1;33m)\u001b[0m\u001b[1;33m\u001b[0m\u001b[0m\n",
      "\u001b[1;32mC:\\ProgramData\\Anaconda3\\lib\\site-packages\\sklearn\\externals\\joblib\\_parallel_backends.py\u001b[0m in \u001b[0;36m__init__\u001b[1;34m(self, batch)\u001b[0m\n\u001b[0;32m    324\u001b[0m         \u001b[1;31m# Don't delay the application, to avoid keeping the input\u001b[0m\u001b[1;33m\u001b[0m\u001b[1;33m\u001b[0m\u001b[0m\n\u001b[0;32m    325\u001b[0m         \u001b[1;31m# arguments in memory\u001b[0m\u001b[1;33m\u001b[0m\u001b[1;33m\u001b[0m\u001b[0m\n\u001b[1;32m--> 326\u001b[1;33m         \u001b[0mself\u001b[0m\u001b[1;33m.\u001b[0m\u001b[0mresults\u001b[0m \u001b[1;33m=\u001b[0m \u001b[0mbatch\u001b[0m\u001b[1;33m(\u001b[0m\u001b[1;33m)\u001b[0m\u001b[1;33m\u001b[0m\u001b[0m\n\u001b[0m\u001b[0;32m    327\u001b[0m \u001b[1;33m\u001b[0m\u001b[0m\n\u001b[0;32m    328\u001b[0m     \u001b[1;32mdef\u001b[0m \u001b[0mget\u001b[0m\u001b[1;33m(\u001b[0m\u001b[0mself\u001b[0m\u001b[1;33m)\u001b[0m\u001b[1;33m:\u001b[0m\u001b[1;33m\u001b[0m\u001b[0m\n",
      "\u001b[1;32mC:\\ProgramData\\Anaconda3\\lib\\site-packages\\sklearn\\externals\\joblib\\parallel.py\u001b[0m in \u001b[0;36m__call__\u001b[1;34m(self)\u001b[0m\n\u001b[0;32m    129\u001b[0m \u001b[1;33m\u001b[0m\u001b[0m\n\u001b[0;32m    130\u001b[0m     \u001b[1;32mdef\u001b[0m \u001b[0m__call__\u001b[0m\u001b[1;33m(\u001b[0m\u001b[0mself\u001b[0m\u001b[1;33m)\u001b[0m\u001b[1;33m:\u001b[0m\u001b[1;33m\u001b[0m\u001b[0m\n\u001b[1;32m--> 131\u001b[1;33m         \u001b[1;32mreturn\u001b[0m \u001b[1;33m[\u001b[0m\u001b[0mfunc\u001b[0m\u001b[1;33m(\u001b[0m\u001b[1;33m*\u001b[0m\u001b[0margs\u001b[0m\u001b[1;33m,\u001b[0m \u001b[1;33m**\u001b[0m\u001b[0mkwargs\u001b[0m\u001b[1;33m)\u001b[0m \u001b[1;32mfor\u001b[0m \u001b[0mfunc\u001b[0m\u001b[1;33m,\u001b[0m \u001b[0margs\u001b[0m\u001b[1;33m,\u001b[0m \u001b[0mkwargs\u001b[0m \u001b[1;32min\u001b[0m \u001b[0mself\u001b[0m\u001b[1;33m.\u001b[0m\u001b[0mitems\u001b[0m\u001b[1;33m]\u001b[0m\u001b[1;33m\u001b[0m\u001b[0m\n\u001b[0m\u001b[0;32m    132\u001b[0m \u001b[1;33m\u001b[0m\u001b[0m\n\u001b[0;32m    133\u001b[0m     \u001b[1;32mdef\u001b[0m \u001b[0m__len__\u001b[0m\u001b[1;33m(\u001b[0m\u001b[0mself\u001b[0m\u001b[1;33m)\u001b[0m\u001b[1;33m:\u001b[0m\u001b[1;33m\u001b[0m\u001b[0m\n",
      "\u001b[1;32mC:\\ProgramData\\Anaconda3\\lib\\site-packages\\sklearn\\externals\\joblib\\parallel.py\u001b[0m in \u001b[0;36m<listcomp>\u001b[1;34m(.0)\u001b[0m\n\u001b[0;32m    129\u001b[0m \u001b[1;33m\u001b[0m\u001b[0m\n\u001b[0;32m    130\u001b[0m     \u001b[1;32mdef\u001b[0m \u001b[0m__call__\u001b[0m\u001b[1;33m(\u001b[0m\u001b[0mself\u001b[0m\u001b[1;33m)\u001b[0m\u001b[1;33m:\u001b[0m\u001b[1;33m\u001b[0m\u001b[0m\n\u001b[1;32m--> 131\u001b[1;33m         \u001b[1;32mreturn\u001b[0m \u001b[1;33m[\u001b[0m\u001b[0mfunc\u001b[0m\u001b[1;33m(\u001b[0m\u001b[1;33m*\u001b[0m\u001b[0margs\u001b[0m\u001b[1;33m,\u001b[0m \u001b[1;33m**\u001b[0m\u001b[0mkwargs\u001b[0m\u001b[1;33m)\u001b[0m \u001b[1;32mfor\u001b[0m \u001b[0mfunc\u001b[0m\u001b[1;33m,\u001b[0m \u001b[0margs\u001b[0m\u001b[1;33m,\u001b[0m \u001b[0mkwargs\u001b[0m \u001b[1;32min\u001b[0m \u001b[0mself\u001b[0m\u001b[1;33m.\u001b[0m\u001b[0mitems\u001b[0m\u001b[1;33m]\u001b[0m\u001b[1;33m\u001b[0m\u001b[0m\n\u001b[0m\u001b[0;32m    132\u001b[0m \u001b[1;33m\u001b[0m\u001b[0m\n\u001b[0;32m    133\u001b[0m     \u001b[1;32mdef\u001b[0m \u001b[0m__len__\u001b[0m\u001b[1;33m(\u001b[0m\u001b[0mself\u001b[0m\u001b[1;33m)\u001b[0m\u001b[1;33m:\u001b[0m\u001b[1;33m\u001b[0m\u001b[0m\n",
      "\u001b[1;32mC:\\ProgramData\\Anaconda3\\lib\\site-packages\\sklearn\\model_selection\\_validation.py\u001b[0m in \u001b[0;36m_fit_and_score\u001b[1;34m(estimator, X, y, scorer, train, test, verbose, parameters, fit_params, return_train_score, return_parameters, return_n_test_samples, return_times, error_score)\u001b[0m\n\u001b[0;32m    258\u001b[0m     \u001b[1;32melse\u001b[0m\u001b[1;33m:\u001b[0m\u001b[1;33m\u001b[0m\u001b[0m\n\u001b[0;32m    259\u001b[0m         \u001b[0mfit_time\u001b[0m \u001b[1;33m=\u001b[0m \u001b[0mtime\u001b[0m\u001b[1;33m.\u001b[0m\u001b[0mtime\u001b[0m\u001b[1;33m(\u001b[0m\u001b[1;33m)\u001b[0m \u001b[1;33m-\u001b[0m \u001b[0mstart_time\u001b[0m\u001b[1;33m\u001b[0m\u001b[0m\n\u001b[1;32m--> 260\u001b[1;33m         \u001b[0mtest_score\u001b[0m \u001b[1;33m=\u001b[0m \u001b[0m_score\u001b[0m\u001b[1;33m(\u001b[0m\u001b[0mestimator\u001b[0m\u001b[1;33m,\u001b[0m \u001b[0mX_test\u001b[0m\u001b[1;33m,\u001b[0m \u001b[0my_test\u001b[0m\u001b[1;33m,\u001b[0m \u001b[0mscorer\u001b[0m\u001b[1;33m)\u001b[0m\u001b[1;33m\u001b[0m\u001b[0m\n\u001b[0m\u001b[0;32m    261\u001b[0m         \u001b[0mscore_time\u001b[0m \u001b[1;33m=\u001b[0m \u001b[0mtime\u001b[0m\u001b[1;33m.\u001b[0m\u001b[0mtime\u001b[0m\u001b[1;33m(\u001b[0m\u001b[1;33m)\u001b[0m \u001b[1;33m-\u001b[0m \u001b[0mstart_time\u001b[0m \u001b[1;33m-\u001b[0m \u001b[0mfit_time\u001b[0m\u001b[1;33m\u001b[0m\u001b[0m\n\u001b[0;32m    262\u001b[0m         \u001b[1;32mif\u001b[0m \u001b[0mreturn_train_score\u001b[0m\u001b[1;33m:\u001b[0m\u001b[1;33m\u001b[0m\u001b[0m\n",
      "\u001b[1;32mC:\\ProgramData\\Anaconda3\\lib\\site-packages\\sklearn\\model_selection\\_validation.py\u001b[0m in \u001b[0;36m_score\u001b[1;34m(estimator, X_test, y_test, scorer)\u001b[0m\n\u001b[0;32m    286\u001b[0m         \u001b[0mscore\u001b[0m \u001b[1;33m=\u001b[0m \u001b[0mscorer\u001b[0m\u001b[1;33m(\u001b[0m\u001b[0mestimator\u001b[0m\u001b[1;33m,\u001b[0m \u001b[0mX_test\u001b[0m\u001b[1;33m)\u001b[0m\u001b[1;33m\u001b[0m\u001b[0m\n\u001b[0;32m    287\u001b[0m     \u001b[1;32melse\u001b[0m\u001b[1;33m:\u001b[0m\u001b[1;33m\u001b[0m\u001b[0m\n\u001b[1;32m--> 288\u001b[1;33m         \u001b[0mscore\u001b[0m \u001b[1;33m=\u001b[0m \u001b[0mscorer\u001b[0m\u001b[1;33m(\u001b[0m\u001b[0mestimator\u001b[0m\u001b[1;33m,\u001b[0m \u001b[0mX_test\u001b[0m\u001b[1;33m,\u001b[0m \u001b[0my_test\u001b[0m\u001b[1;33m)\u001b[0m\u001b[1;33m\u001b[0m\u001b[0m\n\u001b[0m\u001b[0;32m    289\u001b[0m     \u001b[1;32mif\u001b[0m \u001b[0mhasattr\u001b[0m\u001b[1;33m(\u001b[0m\u001b[0mscore\u001b[0m\u001b[1;33m,\u001b[0m \u001b[1;34m'item'\u001b[0m\u001b[1;33m)\u001b[0m\u001b[1;33m:\u001b[0m\u001b[1;33m\u001b[0m\u001b[0m\n\u001b[0;32m    290\u001b[0m         \u001b[1;32mtry\u001b[0m\u001b[1;33m:\u001b[0m\u001b[1;33m\u001b[0m\u001b[0m\n",
      "\u001b[1;32mC:\\ProgramData\\Anaconda3\\lib\\site-packages\\sklearn\\metrics\\scorer.py\u001b[0m in \u001b[0;36m_passthrough_scorer\u001b[1;34m(estimator, *args, **kwargs)\u001b[0m\n\u001b[0;32m    217\u001b[0m \u001b[1;32mdef\u001b[0m \u001b[0m_passthrough_scorer\u001b[0m\u001b[1;33m(\u001b[0m\u001b[0mestimator\u001b[0m\u001b[1;33m,\u001b[0m \u001b[1;33m*\u001b[0m\u001b[0margs\u001b[0m\u001b[1;33m,\u001b[0m \u001b[1;33m**\u001b[0m\u001b[0mkwargs\u001b[0m\u001b[1;33m)\u001b[0m\u001b[1;33m:\u001b[0m\u001b[1;33m\u001b[0m\u001b[0m\n\u001b[0;32m    218\u001b[0m     \u001b[1;34m\"\"\"Function that wraps estimator.score\"\"\"\u001b[0m\u001b[1;33m\u001b[0m\u001b[0m\n\u001b[1;32m--> 219\u001b[1;33m     \u001b[1;32mreturn\u001b[0m \u001b[0mestimator\u001b[0m\u001b[1;33m.\u001b[0m\u001b[0mscore\u001b[0m\u001b[1;33m(\u001b[0m\u001b[1;33m*\u001b[0m\u001b[0margs\u001b[0m\u001b[1;33m,\u001b[0m \u001b[1;33m**\u001b[0m\u001b[0mkwargs\u001b[0m\u001b[1;33m)\u001b[0m\u001b[1;33m\u001b[0m\u001b[0m\n\u001b[0m\u001b[0;32m    220\u001b[0m \u001b[1;33m\u001b[0m\u001b[0m\n\u001b[0;32m    221\u001b[0m \u001b[1;33m\u001b[0m\u001b[0m\n",
      "\u001b[1;32mC:\\ProgramData\\Anaconda3\\lib\\site-packages\\sklearn\\base.py\u001b[0m in \u001b[0;36mscore\u001b[1;34m(self, X, y, sample_weight)\u001b[0m\n\u001b[0;32m    347\u001b[0m         \"\"\"\n\u001b[0;32m    348\u001b[0m         \u001b[1;32mfrom\u001b[0m \u001b[1;33m.\u001b[0m\u001b[0mmetrics\u001b[0m \u001b[1;32mimport\u001b[0m \u001b[0maccuracy_score\u001b[0m\u001b[1;33m\u001b[0m\u001b[0m\n\u001b[1;32m--> 349\u001b[1;33m         \u001b[1;32mreturn\u001b[0m \u001b[0maccuracy_score\u001b[0m\u001b[1;33m(\u001b[0m\u001b[0my\u001b[0m\u001b[1;33m,\u001b[0m \u001b[0mself\u001b[0m\u001b[1;33m.\u001b[0m\u001b[0mpredict\u001b[0m\u001b[1;33m(\u001b[0m\u001b[0mX\u001b[0m\u001b[1;33m)\u001b[0m\u001b[1;33m,\u001b[0m \u001b[0msample_weight\u001b[0m\u001b[1;33m=\u001b[0m\u001b[0msample_weight\u001b[0m\u001b[1;33m)\u001b[0m\u001b[1;33m\u001b[0m\u001b[0m\n\u001b[0m\u001b[0;32m    350\u001b[0m \u001b[1;33m\u001b[0m\u001b[0m\n\u001b[0;32m    351\u001b[0m \u001b[1;33m\u001b[0m\u001b[0m\n",
      "\u001b[1;32mC:\\ProgramData\\Anaconda3\\lib\\site-packages\\sklearn\\ensemble\\forest.py\u001b[0m in \u001b[0;36mpredict\u001b[1;34m(self, X)\u001b[0m\n\u001b[0;32m    532\u001b[0m             \u001b[0mThe\u001b[0m \u001b[0mpredicted\u001b[0m \u001b[0mclasses\u001b[0m\u001b[1;33m.\u001b[0m\u001b[1;33m\u001b[0m\u001b[0m\n\u001b[0;32m    533\u001b[0m         \"\"\"\n\u001b[1;32m--> 534\u001b[1;33m         \u001b[0mproba\u001b[0m \u001b[1;33m=\u001b[0m \u001b[0mself\u001b[0m\u001b[1;33m.\u001b[0m\u001b[0mpredict_proba\u001b[0m\u001b[1;33m(\u001b[0m\u001b[0mX\u001b[0m\u001b[1;33m)\u001b[0m\u001b[1;33m\u001b[0m\u001b[0m\n\u001b[0m\u001b[0;32m    535\u001b[0m \u001b[1;33m\u001b[0m\u001b[0m\n\u001b[0;32m    536\u001b[0m         \u001b[1;32mif\u001b[0m \u001b[0mself\u001b[0m\u001b[1;33m.\u001b[0m\u001b[0mn_outputs_\u001b[0m \u001b[1;33m==\u001b[0m \u001b[1;36m1\u001b[0m\u001b[1;33m:\u001b[0m\u001b[1;33m\u001b[0m\u001b[0m\n",
      "\u001b[1;32mC:\\ProgramData\\Anaconda3\\lib\\site-packages\\sklearn\\ensemble\\forest.py\u001b[0m in \u001b[0;36mpredict_proba\u001b[1;34m(self, X)\u001b[0m\n\u001b[0;32m    581\u001b[0m             delayed(parallel_helper)(e, 'predict_proba', X,\n\u001b[0;32m    582\u001b[0m                                       check_input=False)\n\u001b[1;32m--> 583\u001b[1;33m             for e in self.estimators_)\n\u001b[0m\u001b[0;32m    584\u001b[0m \u001b[1;33m\u001b[0m\u001b[0m\n\u001b[0;32m    585\u001b[0m         \u001b[1;31m# Reduce\u001b[0m\u001b[1;33m\u001b[0m\u001b[1;33m\u001b[0m\u001b[0m\n",
      "\u001b[1;32mC:\\ProgramData\\Anaconda3\\lib\\site-packages\\sklearn\\externals\\joblib\\parallel.py\u001b[0m in \u001b[0;36m__call__\u001b[1;34m(self, iterable)\u001b[0m\n\u001b[0;32m    766\u001b[0m                 \u001b[1;31m# consumption.\u001b[0m\u001b[1;33m\u001b[0m\u001b[1;33m\u001b[0m\u001b[0m\n\u001b[0;32m    767\u001b[0m                 \u001b[0mself\u001b[0m\u001b[1;33m.\u001b[0m\u001b[0m_iterating\u001b[0m \u001b[1;33m=\u001b[0m \u001b[1;32mFalse\u001b[0m\u001b[1;33m\u001b[0m\u001b[0m\n\u001b[1;32m--> 768\u001b[1;33m             \u001b[0mself\u001b[0m\u001b[1;33m.\u001b[0m\u001b[0mretrieve\u001b[0m\u001b[1;33m(\u001b[0m\u001b[1;33m)\u001b[0m\u001b[1;33m\u001b[0m\u001b[0m\n\u001b[0m\u001b[0;32m    769\u001b[0m             \u001b[1;31m# Make sure that we get a last message telling us we are done\u001b[0m\u001b[1;33m\u001b[0m\u001b[1;33m\u001b[0m\u001b[0m\n\u001b[0;32m    770\u001b[0m             \u001b[0melapsed_time\u001b[0m \u001b[1;33m=\u001b[0m \u001b[0mtime\u001b[0m\u001b[1;33m.\u001b[0m\u001b[0mtime\u001b[0m\u001b[1;33m(\u001b[0m\u001b[1;33m)\u001b[0m \u001b[1;33m-\u001b[0m \u001b[0mself\u001b[0m\u001b[1;33m.\u001b[0m\u001b[0m_start_time\u001b[0m\u001b[1;33m\u001b[0m\u001b[0m\n",
      "\u001b[1;32mC:\\ProgramData\\Anaconda3\\lib\\site-packages\\sklearn\\externals\\joblib\\parallel.py\u001b[0m in \u001b[0;36mretrieve\u001b[1;34m(self)\u001b[0m\n\u001b[0;32m    717\u001b[0m                     \u001b[0mensure_ready\u001b[0m \u001b[1;33m=\u001b[0m \u001b[0mself\u001b[0m\u001b[1;33m.\u001b[0m\u001b[0m_managed_backend\u001b[0m\u001b[1;33m\u001b[0m\u001b[0m\n\u001b[0;32m    718\u001b[0m                     \u001b[0mbackend\u001b[0m\u001b[1;33m.\u001b[0m\u001b[0mabort_everything\u001b[0m\u001b[1;33m(\u001b[0m\u001b[0mensure_ready\u001b[0m\u001b[1;33m=\u001b[0m\u001b[0mensure_ready\u001b[0m\u001b[1;33m)\u001b[0m\u001b[1;33m\u001b[0m\u001b[0m\n\u001b[1;32m--> 719\u001b[1;33m                 \u001b[1;32mraise\u001b[0m \u001b[0mexception\u001b[0m\u001b[1;33m\u001b[0m\u001b[0m\n\u001b[0m\u001b[0;32m    720\u001b[0m \u001b[1;33m\u001b[0m\u001b[0m\n\u001b[0;32m    721\u001b[0m     \u001b[1;32mdef\u001b[0m \u001b[0m__call__\u001b[0m\u001b[1;33m(\u001b[0m\u001b[0mself\u001b[0m\u001b[1;33m,\u001b[0m \u001b[0miterable\u001b[0m\u001b[1;33m)\u001b[0m\u001b[1;33m:\u001b[0m\u001b[1;33m\u001b[0m\u001b[0m\n",
      "\u001b[1;32mC:\\ProgramData\\Anaconda3\\lib\\site-packages\\sklearn\\externals\\joblib\\parallel.py\u001b[0m in \u001b[0;36mretrieve\u001b[1;34m(self)\u001b[0m\n\u001b[0;32m    680\u001b[0m                 \u001b[1;31m# check if timeout supported in backend future implementation\u001b[0m\u001b[1;33m\u001b[0m\u001b[1;33m\u001b[0m\u001b[0m\n\u001b[0;32m    681\u001b[0m                 \u001b[1;32mif\u001b[0m \u001b[1;34m'timeout'\u001b[0m \u001b[1;32min\u001b[0m \u001b[0mgetfullargspec\u001b[0m\u001b[1;33m(\u001b[0m\u001b[0mjob\u001b[0m\u001b[1;33m.\u001b[0m\u001b[0mget\u001b[0m\u001b[1;33m)\u001b[0m\u001b[1;33m.\u001b[0m\u001b[0margs\u001b[0m\u001b[1;33m:\u001b[0m\u001b[1;33m\u001b[0m\u001b[0m\n\u001b[1;32m--> 682\u001b[1;33m                     \u001b[0mself\u001b[0m\u001b[1;33m.\u001b[0m\u001b[0m_output\u001b[0m\u001b[1;33m.\u001b[0m\u001b[0mextend\u001b[0m\u001b[1;33m(\u001b[0m\u001b[0mjob\u001b[0m\u001b[1;33m.\u001b[0m\u001b[0mget\u001b[0m\u001b[1;33m(\u001b[0m\u001b[0mtimeout\u001b[0m\u001b[1;33m=\u001b[0m\u001b[0mself\u001b[0m\u001b[1;33m.\u001b[0m\u001b[0mtimeout\u001b[0m\u001b[1;33m)\u001b[0m\u001b[1;33m)\u001b[0m\u001b[1;33m\u001b[0m\u001b[0m\n\u001b[0m\u001b[0;32m    683\u001b[0m                 \u001b[1;32melse\u001b[0m\u001b[1;33m:\u001b[0m\u001b[1;33m\u001b[0m\u001b[0m\n\u001b[0;32m    684\u001b[0m                     \u001b[0mself\u001b[0m\u001b[1;33m.\u001b[0m\u001b[0m_output\u001b[0m\u001b[1;33m.\u001b[0m\u001b[0mextend\u001b[0m\u001b[1;33m(\u001b[0m\u001b[0mjob\u001b[0m\u001b[1;33m.\u001b[0m\u001b[0mget\u001b[0m\u001b[1;33m(\u001b[0m\u001b[1;33m)\u001b[0m\u001b[1;33m)\u001b[0m\u001b[1;33m\u001b[0m\u001b[0m\n",
      "\u001b[1;32mC:\\ProgramData\\Anaconda3\\lib\\multiprocessing\\pool.py\u001b[0m in \u001b[0;36mget\u001b[1;34m(self, timeout)\u001b[0m\n\u001b[0;32m    600\u001b[0m \u001b[1;33m\u001b[0m\u001b[0m\n\u001b[0;32m    601\u001b[0m     \u001b[1;32mdef\u001b[0m \u001b[0mget\u001b[0m\u001b[1;33m(\u001b[0m\u001b[0mself\u001b[0m\u001b[1;33m,\u001b[0m \u001b[0mtimeout\u001b[0m\u001b[1;33m=\u001b[0m\u001b[1;32mNone\u001b[0m\u001b[1;33m)\u001b[0m\u001b[1;33m:\u001b[0m\u001b[1;33m\u001b[0m\u001b[0m\n\u001b[1;32m--> 602\u001b[1;33m         \u001b[0mself\u001b[0m\u001b[1;33m.\u001b[0m\u001b[0mwait\u001b[0m\u001b[1;33m(\u001b[0m\u001b[0mtimeout\u001b[0m\u001b[1;33m)\u001b[0m\u001b[1;33m\u001b[0m\u001b[0m\n\u001b[0m\u001b[0;32m    603\u001b[0m         \u001b[1;32mif\u001b[0m \u001b[1;32mnot\u001b[0m \u001b[0mself\u001b[0m\u001b[1;33m.\u001b[0m\u001b[0mready\u001b[0m\u001b[1;33m(\u001b[0m\u001b[1;33m)\u001b[0m\u001b[1;33m:\u001b[0m\u001b[1;33m\u001b[0m\u001b[0m\n\u001b[0;32m    604\u001b[0m             \u001b[1;32mraise\u001b[0m \u001b[0mTimeoutError\u001b[0m\u001b[1;33m\u001b[0m\u001b[0m\n",
      "\u001b[1;32mC:\\ProgramData\\Anaconda3\\lib\\multiprocessing\\pool.py\u001b[0m in \u001b[0;36mwait\u001b[1;34m(self, timeout)\u001b[0m\n\u001b[0;32m    597\u001b[0m \u001b[1;33m\u001b[0m\u001b[0m\n\u001b[0;32m    598\u001b[0m     \u001b[1;32mdef\u001b[0m \u001b[0mwait\u001b[0m\u001b[1;33m(\u001b[0m\u001b[0mself\u001b[0m\u001b[1;33m,\u001b[0m \u001b[0mtimeout\u001b[0m\u001b[1;33m=\u001b[0m\u001b[1;32mNone\u001b[0m\u001b[1;33m)\u001b[0m\u001b[1;33m:\u001b[0m\u001b[1;33m\u001b[0m\u001b[0m\n\u001b[1;32m--> 599\u001b[1;33m         \u001b[0mself\u001b[0m\u001b[1;33m.\u001b[0m\u001b[0m_event\u001b[0m\u001b[1;33m.\u001b[0m\u001b[0mwait\u001b[0m\u001b[1;33m(\u001b[0m\u001b[0mtimeout\u001b[0m\u001b[1;33m)\u001b[0m\u001b[1;33m\u001b[0m\u001b[0m\n\u001b[0m\u001b[0;32m    600\u001b[0m \u001b[1;33m\u001b[0m\u001b[0m\n\u001b[0;32m    601\u001b[0m     \u001b[1;32mdef\u001b[0m \u001b[0mget\u001b[0m\u001b[1;33m(\u001b[0m\u001b[0mself\u001b[0m\u001b[1;33m,\u001b[0m \u001b[0mtimeout\u001b[0m\u001b[1;33m=\u001b[0m\u001b[1;32mNone\u001b[0m\u001b[1;33m)\u001b[0m\u001b[1;33m:\u001b[0m\u001b[1;33m\u001b[0m\u001b[0m\n",
      "\u001b[1;32mC:\\ProgramData\\Anaconda3\\lib\\threading.py\u001b[0m in \u001b[0;36mwait\u001b[1;34m(self, timeout)\u001b[0m\n\u001b[0;32m    549\u001b[0m             \u001b[0msignaled\u001b[0m \u001b[1;33m=\u001b[0m \u001b[0mself\u001b[0m\u001b[1;33m.\u001b[0m\u001b[0m_flag\u001b[0m\u001b[1;33m\u001b[0m\u001b[0m\n\u001b[0;32m    550\u001b[0m             \u001b[1;32mif\u001b[0m \u001b[1;32mnot\u001b[0m \u001b[0msignaled\u001b[0m\u001b[1;33m:\u001b[0m\u001b[1;33m\u001b[0m\u001b[0m\n\u001b[1;32m--> 551\u001b[1;33m                 \u001b[0msignaled\u001b[0m \u001b[1;33m=\u001b[0m \u001b[0mself\u001b[0m\u001b[1;33m.\u001b[0m\u001b[0m_cond\u001b[0m\u001b[1;33m.\u001b[0m\u001b[0mwait\u001b[0m\u001b[1;33m(\u001b[0m\u001b[0mtimeout\u001b[0m\u001b[1;33m)\u001b[0m\u001b[1;33m\u001b[0m\u001b[0m\n\u001b[0m\u001b[0;32m    552\u001b[0m             \u001b[1;32mreturn\u001b[0m \u001b[0msignaled\u001b[0m\u001b[1;33m\u001b[0m\u001b[0m\n\u001b[0;32m    553\u001b[0m \u001b[1;33m\u001b[0m\u001b[0m\n",
      "\u001b[1;32mC:\\ProgramData\\Anaconda3\\lib\\threading.py\u001b[0m in \u001b[0;36mwait\u001b[1;34m(self, timeout)\u001b[0m\n\u001b[0;32m    293\u001b[0m         \u001b[1;32mtry\u001b[0m\u001b[1;33m:\u001b[0m    \u001b[1;31m# restore state no matter what (e.g., KeyboardInterrupt)\u001b[0m\u001b[1;33m\u001b[0m\u001b[0m\n\u001b[0;32m    294\u001b[0m             \u001b[1;32mif\u001b[0m \u001b[0mtimeout\u001b[0m \u001b[1;32mis\u001b[0m \u001b[1;32mNone\u001b[0m\u001b[1;33m:\u001b[0m\u001b[1;33m\u001b[0m\u001b[0m\n\u001b[1;32m--> 295\u001b[1;33m                 \u001b[0mwaiter\u001b[0m\u001b[1;33m.\u001b[0m\u001b[0macquire\u001b[0m\u001b[1;33m(\u001b[0m\u001b[1;33m)\u001b[0m\u001b[1;33m\u001b[0m\u001b[0m\n\u001b[0m\u001b[0;32m    296\u001b[0m                 \u001b[0mgotit\u001b[0m \u001b[1;33m=\u001b[0m \u001b[1;32mTrue\u001b[0m\u001b[1;33m\u001b[0m\u001b[0m\n\u001b[0;32m    297\u001b[0m             \u001b[1;32melse\u001b[0m\u001b[1;33m:\u001b[0m\u001b[1;33m\u001b[0m\u001b[0m\n",
      "\u001b[1;31mKeyboardInterrupt\u001b[0m: "
     ]
    }
   ],
   "source": [
    "rfc = RandomForestClassifier(n_jobs=-1, max_features='sqrt', verbose=0) \n",
    "start_time = time.time()\n",
    "# Use a grid over parameters of interest\n",
    "n_estim = filter(lambda x: x % 9 == 0, list(range(9,50)))\n",
    "param_grid = { \n",
    "           \"n_estimators\" : list(n_estim),\n",
    "           \"max_depth\" : [1, 5, 10, 15, 20, 25, 30],\n",
    "           \"min_samples_leaf\" : [1, 2, 4, 6, 8, 10]}\n",
    "\n",
    "#param_grid = { \n",
    "#           \"n_estimators\" : [2,3],\n",
    "#           \"max_depth\" : [1, 2],\n",
    "#           \"min_samples_leaf\" : [1, 10]}\n",
    "\n",
    "    \n",
    "CV_rfc = RandomizedSearchCV(rfc, param_grid, cv= 2)\n",
    "CV_rfc.fit(X_train, Y_train)\n",
    "print(\"RamdomSearch took {:.2f} seconds\".format(time.time() - start_time))\n",
    "\n",
    "print( CV_rfc.best_params_)\n",
    "print( CV_rfc.best_score_)"
   ]
  },
  {
   "cell_type": "markdown",
   "metadata": {},
   "source": [
    "Creating same classifier using now the best parameters BUT using differnt Kfolds"
   ]
  },
  {
   "cell_type": "code",
   "execution_count": 109,
   "metadata": {
    "collapsed": true
   },
   "outputs": [
    {
     "name": "stdout",
     "output_type": "stream",
     "text": [
      "Train accuracy 17.16 (+/- 2.14)\n",
      "Test accuracy 17.90\n"
     ]
    }
   ],
   "source": [
    "seed = 0\n",
    "\n",
    "rfc = RandomForestClassifier(**CV_rfc.best_params_)\n",
    "kfold = KFold(n_splits=10, random_state=seed)\n",
    "\n",
    "# fit the model with training set\n",
    "scores = cross_val_score(rfc, X_train, Y_train, cv=kfold, scoring='accuracy')\n",
    "print(\"Train accuracy %0.2f (+/- %0.2f)\" % (scores.mean()*100, scores.std()*100))\n",
    "\n",
    "# predict on testing set\n",
    "preds = cross_val_predict(rfc, X_val, Y_val, cv=kfold)\n",
    "print(\"Test accuracy %0.2f\" % (100*accuracy_score(Y_val, preds)))"
   ]
  },
  {
   "cell_type": "markdown",
   "metadata": {},
   "source": [
    "Similarly optimizing KNN algorithm. This time using RandomizedSearchCV"
   ]
  },
  {
   "cell_type": "code",
   "execution_count": 161,
   "metadata": {
    "scrolled": true
   },
   "outputs": [
    {
     "name": "stderr",
     "output_type": "stream",
     "text": [
      "C:\\ProgramData\\Anaconda3\\lib\\site-packages\\sklearn\\model_selection\\_split.py:581: Warning: The least populated class in y has only 1 members, which is too few. The minimum number of groups for any class cannot be less than n_splits=3.\n",
      "  % (min_groups, self.n_splits)), Warning)\n"
     ]
    },
    {
     "name": "stdout",
     "output_type": "stream",
     "text": [
      "RamdomSearch took 147.43 seconds\n",
      "Train accuracy 0.63 \n"
     ]
    },
    {
     "ename": "AttributeError",
     "evalue": "'RandomizedSearchCV' object has no attribute 'preds'",
     "output_type": "error",
     "traceback": [
      "\u001b[1;31m---------------------------------------------------------------------------\u001b[0m",
      "\u001b[1;31mAttributeError\u001b[0m                            Traceback (most recent call last)",
      "\u001b[1;32m<ipython-input-161-2156cb25ccb2>\u001b[0m in \u001b[0;36m<module>\u001b[1;34m()\u001b[0m\n\u001b[0;32m     14\u001b[0m \u001b[1;33m\u001b[0m\u001b[0m\n\u001b[0;32m     15\u001b[0m \u001b[1;31m# predict on testing set\u001b[0m\u001b[1;33m\u001b[0m\u001b[1;33m\u001b[0m\u001b[0m\n\u001b[1;32m---> 16\u001b[1;33m \u001b[0mpreds\u001b[0m \u001b[1;33m=\u001b[0m \u001b[0mKNNgrid\u001b[0m\u001b[1;33m.\u001b[0m\u001b[0mpreds\u001b[0m\u001b[1;33m(\u001b[0m\u001b[0mX_val\u001b[0m\u001b[1;33m)\u001b[0m\u001b[1;33m\u001b[0m\u001b[0m\n\u001b[0m\u001b[0;32m     17\u001b[0m \u001b[0mprint\u001b[0m\u001b[1;33m(\u001b[0m\u001b[1;34m\"Test accuracy %0.2f\"\u001b[0m \u001b[1;33m%\u001b[0m \u001b[1;33m(\u001b[0m\u001b[1;36m100\u001b[0m\u001b[1;33m*\u001b[0m\u001b[0maccuracy_score\u001b[0m\u001b[1;33m(\u001b[0m\u001b[0mY_val\u001b[0m\u001b[1;33m,\u001b[0m \u001b[0mpreds\u001b[0m\u001b[1;33m)\u001b[0m\u001b[1;33m)\u001b[0m\u001b[1;33m)\u001b[0m\u001b[1;33m\u001b[0m\u001b[0m\n",
      "\u001b[1;31mAttributeError\u001b[0m: 'RandomizedSearchCV' object has no attribute 'preds'"
     ]
    }
   ],
   "source": [
    "knn = KNeighborsClassifier(n_jobs=-1)\n",
    "# Range of `n_estimators` values to explore.\n",
    "\n",
    "knnparams= {\"n_neighbors\": np.arange(1,31,2),\n",
    "           \"metric\" : [\"euclidean\", \"cityblock\"]}\n",
    "\n",
    "KNNgrid= RandomizedSearchCV(knn, knnparams, scoring=scoring)\n",
    "start_time=time.time()\n",
    "KNNgrid.fit(X_train, Y_train)\n",
    "\n",
    "print(\"RamdomSearch took {:.2f} seconds\".format(time.time() - start_time))\n",
    "# fit the model with training set\n",
    "print(\"Train accuracy %0.2f \" % (KNNgrid.best_score_))\n",
    "\n",
    "# predict on testing set\n",
    "preds = KNNgrid.preds(X_val)\n",
    "print(\"Test accuracy %0.2f\" % (100*accuracy_score(Y_val, preds)))"
   ]
  },
  {
   "cell_type": "markdown",
   "metadata": {},
   "source": [
    "### 4) Predicting dummy Data"
   ]
  },
  {
   "cell_type": "code",
   "execution_count": null,
   "metadata": {
    "collapsed": true
   },
   "outputs": [],
   "source": [
    "iyear = 2016\n",
    "country = 153\n",
    "crit1 = 1\n",
    "crit2 = 1\n",
    "crit3 = 1\n",
    "attacktype1 = 1 \n",
    "targtype1 = 3\n",
    "targsubtype1 = 25\n",
    "weaptype1 = 6\n",
    "weapsubtype1 = 15\n",
    "ransom = 0\n",
    "\n",
    
    "X = [iyear, country, crit1, crit2, crit3, attacktype1, targtype1, targsubtype1, weaptype1, weapsubtype1, ransom]",
    "\n",
    "print KNNgrid.predict(X)\n",
    
   ]
  }
 ],
 "metadata": {
  "kernelspec": {
   "display_name": "Python 3",
   "language": "python",
   "name": "python3"
  },
  "language_info": {
   "codemirror_mode": {
    "name": "ipython",
    "version": 3
   },
   "file_extension": ".py",
   "mimetype": "text/x-python",
   "name": "python",
   "nbconvert_exporter": "python",
   "pygments_lexer": "ipython3",
   "version": "3.6.1"
  }
 },
 "nbformat": 4,
 "nbformat_minor": 2
}
